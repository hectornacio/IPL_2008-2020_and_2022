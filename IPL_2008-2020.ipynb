{
 "cells": [
  {
   "cell_type": "markdown",
   "metadata": {},
   "source": [
    "# Simple Analysis of IPL 2008-2020\n",
    "#### **By Ika Nurfitriani**"
   ]
  },
  {
   "attachments": {},
   "cell_type": "markdown",
   "metadata": {},
   "source": [
    "## About Dataset\n",
    "IPL is among the most famous cricket league with players coming from worldwide. What makes this series more competitive every year is the drama with every ball and hence this dataset is a complete dataset showing match information and also data for each delivery.<br>\n",
    "1. The file IPL_Matches_2008-2020.csv contains all details of the match: Venue of the match, Toss Decision, Match Winer, Man of the Match, Squads, etc.\n",
    "2. The file IPL_Ball-by-Ball_2008-2020.csv contains ball by ball data of each and every match: Batsman on strike, Bowler, Extras, Runs, Wicket Ball, etc."
   ]
  },
  {
   "attachments": {},
   "cell_type": "markdown",
   "metadata": {},
   "source": [
    "# A. Import library\n",
    "***"
   ]
  },
  {
   "cell_type": "code",
   "execution_count": 191,
   "metadata": {},
   "outputs": [],
   "source": [
    "import numpy as np\n",
    "import pandas as pd\n",
    "import matplotlib.pyplot as plt\n",
    "import seaborn as sns\n",
    "%matplotlib inline\n",
    "from plotly.offline import download_plotlyjs, init_notebook_mode, plot, iplot\n",
    "import plotly.express as px\n",
    "\n",
    "import warnings\n",
    "warnings.filterwarnings(\"ignore\")"
   ]
  },
  {
   "attachments": {},
   "cell_type": "markdown",
   "metadata": {},
   "source": [
    "# B. Data Loading\n",
    "***"
   ]
  },
  {
   "attachments": {},
   "cell_type": "markdown",
   "metadata": {},
   "source": [
    "**Membaca dataset**"
   ]
  },
  {
   "cell_type": "code",
   "execution_count": 192,
   "metadata": {},
   "outputs": [],
   "source": [
    "df_match = pd.read_csv(\"IPL_Matches_2008-2020.csv\")\n",
    "df_ball = pd.read_csv(\"IPL_Ball-by-Ball_2008-2020.csv\")"
   ]
  },
  {
   "attachments": {},
   "cell_type": "markdown",
   "metadata": {},
   "source": [
    "**Melihat 5 data teratas dari df_match**"
   ]
  },
  {
   "cell_type": "code",
   "execution_count": 193,
   "metadata": {},
   "outputs": [
    {
     "data": {
      "text/html": [
       "<div>\n",
       "<style scoped>\n",
       "    .dataframe tbody tr th:only-of-type {\n",
       "        vertical-align: middle;\n",
       "    }\n",
       "\n",
       "    .dataframe tbody tr th {\n",
       "        vertical-align: top;\n",
       "    }\n",
       "\n",
       "    .dataframe thead th {\n",
       "        text-align: right;\n",
       "    }\n",
       "</style>\n",
       "<table border=\"1\" class=\"dataframe\">\n",
       "  <thead>\n",
       "    <tr style=\"text-align: right;\">\n",
       "      <th></th>\n",
       "      <th>id</th>\n",
       "      <th>city</th>\n",
       "      <th>date</th>\n",
       "      <th>player_of_match</th>\n",
       "      <th>venue</th>\n",
       "      <th>neutral_venue</th>\n",
       "      <th>team1</th>\n",
       "      <th>team2</th>\n",
       "      <th>toss_winner</th>\n",
       "      <th>toss_decision</th>\n",
       "      <th>winner</th>\n",
       "      <th>result</th>\n",
       "      <th>result_margin</th>\n",
       "      <th>eliminator</th>\n",
       "      <th>method</th>\n",
       "      <th>umpire1</th>\n",
       "      <th>umpire2</th>\n",
       "    </tr>\n",
       "  </thead>\n",
       "  <tbody>\n",
       "    <tr>\n",
       "      <th>0</th>\n",
       "      <td>335982</td>\n",
       "      <td>Bangalore</td>\n",
       "      <td>18-04-2008</td>\n",
       "      <td>BB McCullum</td>\n",
       "      <td>M Chinnaswamy Stadium</td>\n",
       "      <td>0</td>\n",
       "      <td>Royal Challengers Bangalore</td>\n",
       "      <td>Kolkata Knight Riders</td>\n",
       "      <td>Royal Challengers Bangalore</td>\n",
       "      <td>field</td>\n",
       "      <td>Kolkata Knight Riders</td>\n",
       "      <td>runs</td>\n",
       "      <td>140.0</td>\n",
       "      <td>N</td>\n",
       "      <td>NaN</td>\n",
       "      <td>Asad Rauf</td>\n",
       "      <td>RE Koertzen</td>\n",
       "    </tr>\n",
       "    <tr>\n",
       "      <th>1</th>\n",
       "      <td>335983</td>\n",
       "      <td>Chandigarh</td>\n",
       "      <td>19-04-2008</td>\n",
       "      <td>MEK Hussey</td>\n",
       "      <td>Punjab Cricket Association Stadium, Mohali</td>\n",
       "      <td>0</td>\n",
       "      <td>Kings XI Punjab</td>\n",
       "      <td>Chennai Super Kings</td>\n",
       "      <td>Chennai Super Kings</td>\n",
       "      <td>bat</td>\n",
       "      <td>Chennai Super Kings</td>\n",
       "      <td>runs</td>\n",
       "      <td>33.0</td>\n",
       "      <td>N</td>\n",
       "      <td>NaN</td>\n",
       "      <td>MR Benson</td>\n",
       "      <td>SL Shastri</td>\n",
       "    </tr>\n",
       "    <tr>\n",
       "      <th>2</th>\n",
       "      <td>335984</td>\n",
       "      <td>Delhi</td>\n",
       "      <td>19-04-2008</td>\n",
       "      <td>MF Maharoof</td>\n",
       "      <td>Feroz Shah Kotla</td>\n",
       "      <td>0</td>\n",
       "      <td>Delhi Daredevils</td>\n",
       "      <td>Rajasthan Royals</td>\n",
       "      <td>Rajasthan Royals</td>\n",
       "      <td>bat</td>\n",
       "      <td>Delhi Daredevils</td>\n",
       "      <td>wickets</td>\n",
       "      <td>9.0</td>\n",
       "      <td>N</td>\n",
       "      <td>NaN</td>\n",
       "      <td>Aleem Dar</td>\n",
       "      <td>GA Pratapkumar</td>\n",
       "    </tr>\n",
       "    <tr>\n",
       "      <th>3</th>\n",
       "      <td>335985</td>\n",
       "      <td>Mumbai</td>\n",
       "      <td>20-04-2008</td>\n",
       "      <td>MV Boucher</td>\n",
       "      <td>Wankhede Stadium</td>\n",
       "      <td>0</td>\n",
       "      <td>Mumbai Indians</td>\n",
       "      <td>Royal Challengers Bangalore</td>\n",
       "      <td>Mumbai Indians</td>\n",
       "      <td>bat</td>\n",
       "      <td>Royal Challengers Bangalore</td>\n",
       "      <td>wickets</td>\n",
       "      <td>5.0</td>\n",
       "      <td>N</td>\n",
       "      <td>NaN</td>\n",
       "      <td>SJ Davis</td>\n",
       "      <td>DJ Harper</td>\n",
       "    </tr>\n",
       "    <tr>\n",
       "      <th>4</th>\n",
       "      <td>335986</td>\n",
       "      <td>Kolkata</td>\n",
       "      <td>20-04-2008</td>\n",
       "      <td>DJ Hussey</td>\n",
       "      <td>Eden Gardens</td>\n",
       "      <td>0</td>\n",
       "      <td>Kolkata Knight Riders</td>\n",
       "      <td>Deccan Chargers</td>\n",
       "      <td>Deccan Chargers</td>\n",
       "      <td>bat</td>\n",
       "      <td>Kolkata Knight Riders</td>\n",
       "      <td>wickets</td>\n",
       "      <td>5.0</td>\n",
       "      <td>N</td>\n",
       "      <td>NaN</td>\n",
       "      <td>BF Bowden</td>\n",
       "      <td>K Hariharan</td>\n",
       "    </tr>\n",
       "  </tbody>\n",
       "</table>\n",
       "</div>"
      ],
      "text/plain": [
       "       id        city        date player_of_match  \\\n",
       "0  335982   Bangalore  18-04-2008     BB McCullum   \n",
       "1  335983  Chandigarh  19-04-2008      MEK Hussey   \n",
       "2  335984       Delhi  19-04-2008     MF Maharoof   \n",
       "3  335985      Mumbai  20-04-2008      MV Boucher   \n",
       "4  335986     Kolkata  20-04-2008       DJ Hussey   \n",
       "\n",
       "                                        venue  neutral_venue  \\\n",
       "0                       M Chinnaswamy Stadium              0   \n",
       "1  Punjab Cricket Association Stadium, Mohali              0   \n",
       "2                            Feroz Shah Kotla              0   \n",
       "3                            Wankhede Stadium              0   \n",
       "4                                Eden Gardens              0   \n",
       "\n",
       "                         team1                        team2  \\\n",
       "0  Royal Challengers Bangalore        Kolkata Knight Riders   \n",
       "1              Kings XI Punjab          Chennai Super Kings   \n",
       "2             Delhi Daredevils             Rajasthan Royals   \n",
       "3               Mumbai Indians  Royal Challengers Bangalore   \n",
       "4        Kolkata Knight Riders              Deccan Chargers   \n",
       "\n",
       "                   toss_winner toss_decision                       winner  \\\n",
       "0  Royal Challengers Bangalore         field        Kolkata Knight Riders   \n",
       "1          Chennai Super Kings           bat          Chennai Super Kings   \n",
       "2             Rajasthan Royals           bat             Delhi Daredevils   \n",
       "3               Mumbai Indians           bat  Royal Challengers Bangalore   \n",
       "4              Deccan Chargers           bat        Kolkata Knight Riders   \n",
       "\n",
       "    result  result_margin eliminator method    umpire1         umpire2  \n",
       "0     runs          140.0          N    NaN  Asad Rauf     RE Koertzen  \n",
       "1     runs           33.0          N    NaN  MR Benson      SL Shastri  \n",
       "2  wickets            9.0          N    NaN  Aleem Dar  GA Pratapkumar  \n",
       "3  wickets            5.0          N    NaN   SJ Davis       DJ Harper  \n",
       "4  wickets            5.0          N    NaN  BF Bowden     K Hariharan  "
      ]
     },
     "execution_count": 193,
     "metadata": {},
     "output_type": "execute_result"
    }
   ],
   "source": [
    "df_match.head()"
   ]
  },
  {
   "attachments": {},
   "cell_type": "markdown",
   "metadata": {},
   "source": [
    "**Melihat 5 data teratas dari df_ball**"
   ]
  },
  {
   "cell_type": "code",
   "execution_count": 194,
   "metadata": {},
   "outputs": [
    {
     "data": {
      "text/html": [
       "<div>\n",
       "<style scoped>\n",
       "    .dataframe tbody tr th:only-of-type {\n",
       "        vertical-align: middle;\n",
       "    }\n",
       "\n",
       "    .dataframe tbody tr th {\n",
       "        vertical-align: top;\n",
       "    }\n",
       "\n",
       "    .dataframe thead th {\n",
       "        text-align: right;\n",
       "    }\n",
       "</style>\n",
       "<table border=\"1\" class=\"dataframe\">\n",
       "  <thead>\n",
       "    <tr style=\"text-align: right;\">\n",
       "      <th></th>\n",
       "      <th>id</th>\n",
       "      <th>inning</th>\n",
       "      <th>over</th>\n",
       "      <th>ball</th>\n",
       "      <th>batsman</th>\n",
       "      <th>non_striker</th>\n",
       "      <th>bowler</th>\n",
       "      <th>batsman_runs</th>\n",
       "      <th>extra_runs</th>\n",
       "      <th>total_runs</th>\n",
       "      <th>non_boundary</th>\n",
       "      <th>is_wicket</th>\n",
       "      <th>dismissal_kind</th>\n",
       "      <th>player_dismissed</th>\n",
       "      <th>fielder</th>\n",
       "      <th>extras_type</th>\n",
       "      <th>batting_team</th>\n",
       "      <th>bowling_team</th>\n",
       "    </tr>\n",
       "  </thead>\n",
       "  <tbody>\n",
       "    <tr>\n",
       "      <th>0</th>\n",
       "      <td>335982</td>\n",
       "      <td>1</td>\n",
       "      <td>6</td>\n",
       "      <td>5</td>\n",
       "      <td>RT Ponting</td>\n",
       "      <td>BB McCullum</td>\n",
       "      <td>AA Noffke</td>\n",
       "      <td>1</td>\n",
       "      <td>0</td>\n",
       "      <td>1</td>\n",
       "      <td>0</td>\n",
       "      <td>0</td>\n",
       "      <td>NaN</td>\n",
       "      <td>NaN</td>\n",
       "      <td>NaN</td>\n",
       "      <td>NaN</td>\n",
       "      <td>Kolkata Knight Riders</td>\n",
       "      <td>Royal Challengers Bangalore</td>\n",
       "    </tr>\n",
       "    <tr>\n",
       "      <th>1</th>\n",
       "      <td>335982</td>\n",
       "      <td>1</td>\n",
       "      <td>6</td>\n",
       "      <td>6</td>\n",
       "      <td>BB McCullum</td>\n",
       "      <td>RT Ponting</td>\n",
       "      <td>AA Noffke</td>\n",
       "      <td>1</td>\n",
       "      <td>0</td>\n",
       "      <td>1</td>\n",
       "      <td>0</td>\n",
       "      <td>0</td>\n",
       "      <td>NaN</td>\n",
       "      <td>NaN</td>\n",
       "      <td>NaN</td>\n",
       "      <td>NaN</td>\n",
       "      <td>Kolkata Knight Riders</td>\n",
       "      <td>Royal Challengers Bangalore</td>\n",
       "    </tr>\n",
       "    <tr>\n",
       "      <th>2</th>\n",
       "      <td>335982</td>\n",
       "      <td>1</td>\n",
       "      <td>7</td>\n",
       "      <td>1</td>\n",
       "      <td>BB McCullum</td>\n",
       "      <td>RT Ponting</td>\n",
       "      <td>Z Khan</td>\n",
       "      <td>0</td>\n",
       "      <td>0</td>\n",
       "      <td>0</td>\n",
       "      <td>0</td>\n",
       "      <td>0</td>\n",
       "      <td>NaN</td>\n",
       "      <td>NaN</td>\n",
       "      <td>NaN</td>\n",
       "      <td>NaN</td>\n",
       "      <td>Kolkata Knight Riders</td>\n",
       "      <td>Royal Challengers Bangalore</td>\n",
       "    </tr>\n",
       "    <tr>\n",
       "      <th>3</th>\n",
       "      <td>335982</td>\n",
       "      <td>1</td>\n",
       "      <td>7</td>\n",
       "      <td>2</td>\n",
       "      <td>BB McCullum</td>\n",
       "      <td>RT Ponting</td>\n",
       "      <td>Z Khan</td>\n",
       "      <td>1</td>\n",
       "      <td>0</td>\n",
       "      <td>1</td>\n",
       "      <td>0</td>\n",
       "      <td>0</td>\n",
       "      <td>NaN</td>\n",
       "      <td>NaN</td>\n",
       "      <td>NaN</td>\n",
       "      <td>NaN</td>\n",
       "      <td>Kolkata Knight Riders</td>\n",
       "      <td>Royal Challengers Bangalore</td>\n",
       "    </tr>\n",
       "    <tr>\n",
       "      <th>4</th>\n",
       "      <td>335982</td>\n",
       "      <td>1</td>\n",
       "      <td>7</td>\n",
       "      <td>3</td>\n",
       "      <td>RT Ponting</td>\n",
       "      <td>BB McCullum</td>\n",
       "      <td>Z Khan</td>\n",
       "      <td>1</td>\n",
       "      <td>0</td>\n",
       "      <td>1</td>\n",
       "      <td>0</td>\n",
       "      <td>0</td>\n",
       "      <td>NaN</td>\n",
       "      <td>NaN</td>\n",
       "      <td>NaN</td>\n",
       "      <td>NaN</td>\n",
       "      <td>Kolkata Knight Riders</td>\n",
       "      <td>Royal Challengers Bangalore</td>\n",
       "    </tr>\n",
       "  </tbody>\n",
       "</table>\n",
       "</div>"
      ],
      "text/plain": [
       "       id  inning  over  ball      batsman  non_striker     bowler  \\\n",
       "0  335982       1     6     5   RT Ponting  BB McCullum  AA Noffke   \n",
       "1  335982       1     6     6  BB McCullum   RT Ponting  AA Noffke   \n",
       "2  335982       1     7     1  BB McCullum   RT Ponting     Z Khan   \n",
       "3  335982       1     7     2  BB McCullum   RT Ponting     Z Khan   \n",
       "4  335982       1     7     3   RT Ponting  BB McCullum     Z Khan   \n",
       "\n",
       "   batsman_runs  extra_runs  total_runs  non_boundary  is_wicket  \\\n",
       "0             1           0           1             0          0   \n",
       "1             1           0           1             0          0   \n",
       "2             0           0           0             0          0   \n",
       "3             1           0           1             0          0   \n",
       "4             1           0           1             0          0   \n",
       "\n",
       "  dismissal_kind player_dismissed fielder extras_type           batting_team  \\\n",
       "0            NaN              NaN     NaN         NaN  Kolkata Knight Riders   \n",
       "1            NaN              NaN     NaN         NaN  Kolkata Knight Riders   \n",
       "2            NaN              NaN     NaN         NaN  Kolkata Knight Riders   \n",
       "3            NaN              NaN     NaN         NaN  Kolkata Knight Riders   \n",
       "4            NaN              NaN     NaN         NaN  Kolkata Knight Riders   \n",
       "\n",
       "                  bowling_team  \n",
       "0  Royal Challengers Bangalore  \n",
       "1  Royal Challengers Bangalore  \n",
       "2  Royal Challengers Bangalore  \n",
       "3  Royal Challengers Bangalore  \n",
       "4  Royal Challengers Bangalore  "
      ]
     },
     "execution_count": 194,
     "metadata": {},
     "output_type": "execute_result"
    }
   ],
   "source": [
    "df_ball.head()"
   ]
  },
  {
   "attachments": {},
   "cell_type": "markdown",
   "metadata": {},
   "source": [
    "**Melihat tipe data semua kolom**"
   ]
  },
  {
   "cell_type": "code",
   "execution_count": 195,
   "metadata": {},
   "outputs": [
    {
     "name": "stdout",
     "output_type": "stream",
     "text": [
      "<class 'pandas.core.frame.DataFrame'>\n",
      "RangeIndex: 816 entries, 0 to 815\n",
      "Data columns (total 17 columns):\n",
      " #   Column           Non-Null Count  Dtype  \n",
      "---  ------           --------------  -----  \n",
      " 0   id               816 non-null    int64  \n",
      " 1   city             803 non-null    object \n",
      " 2   date             816 non-null    object \n",
      " 3   player_of_match  812 non-null    object \n",
      " 4   venue            816 non-null    object \n",
      " 5   neutral_venue    816 non-null    int64  \n",
      " 6   team1            816 non-null    object \n",
      " 7   team2            816 non-null    object \n",
      " 8   toss_winner      816 non-null    object \n",
      " 9   toss_decision    816 non-null    object \n",
      " 10  winner           812 non-null    object \n",
      " 11  result           812 non-null    object \n",
      " 12  result_margin    799 non-null    float64\n",
      " 13  eliminator       812 non-null    object \n",
      " 14  method           19 non-null     object \n",
      " 15  umpire1          816 non-null    object \n",
      " 16  umpire2          816 non-null    object \n",
      "dtypes: float64(1), int64(2), object(14)\n",
      "memory usage: 108.5+ KB\n"
     ]
    }
   ],
   "source": [
    "df_match.info()"
   ]
  },
  {
   "attachments": {},
   "cell_type": "markdown",
   "metadata": {},
   "source": [
    "**Melihat tipe data semua kolom**"
   ]
  },
  {
   "cell_type": "code",
   "execution_count": 196,
   "metadata": {},
   "outputs": [
    {
     "name": "stdout",
     "output_type": "stream",
     "text": [
      "<class 'pandas.core.frame.DataFrame'>\n",
      "RangeIndex: 193468 entries, 0 to 193467\n",
      "Data columns (total 18 columns):\n",
      " #   Column            Non-Null Count   Dtype \n",
      "---  ------            --------------   ----- \n",
      " 0   id                193468 non-null  int64 \n",
      " 1   inning            193468 non-null  int64 \n",
      " 2   over              193468 non-null  int64 \n",
      " 3   ball              193468 non-null  int64 \n",
      " 4   batsman           193468 non-null  object\n",
      " 5   non_striker       193468 non-null  object\n",
      " 6   bowler            193468 non-null  object\n",
      " 7   batsman_runs      193468 non-null  int64 \n",
      " 8   extra_runs        193468 non-null  int64 \n",
      " 9   total_runs        193468 non-null  int64 \n",
      " 10  non_boundary      193468 non-null  int64 \n",
      " 11  is_wicket         193468 non-null  int64 \n",
      " 12  dismissal_kind    9495 non-null    object\n",
      " 13  player_dismissed  9495 non-null    object\n",
      " 14  fielder           6784 non-null    object\n",
      " 15  extras_type       10233 non-null   object\n",
      " 16  batting_team      193468 non-null  object\n",
      " 17  bowling_team      193277 non-null  object\n",
      "dtypes: int64(9), object(9)\n",
      "memory usage: 26.6+ MB\n"
     ]
    }
   ],
   "source": [
    "df_ball.info()"
   ]
  },
  {
   "attachments": {},
   "cell_type": "markdown",
   "metadata": {},
   "source": [
    "**Melihat informasi dimensi dari dataset**"
   ]
  },
  {
   "cell_type": "code",
   "execution_count": 197,
   "metadata": {},
   "outputs": [
    {
     "name": "stdout",
     "output_type": "stream",
     "text": [
      "Dimensi data match:\n",
      "816 baris\n",
      "17 kolom\n"
     ]
    }
   ],
   "source": [
    "rows, columns = df_match.shape\n",
    "print(\"Dimensi data match:\")\n",
    "print(rows, \"baris\")\n",
    "print(columns, \"kolom\")"
   ]
  },
  {
   "attachments": {},
   "cell_type": "markdown",
   "metadata": {},
   "source": [
    "**Melihat nama-nama kolom dari dataframe**"
   ]
  },
  {
   "cell_type": "code",
   "execution_count": 198,
   "metadata": {},
   "outputs": [
    {
     "data": {
      "text/plain": [
       "Index(['id', 'city', 'date', 'player_of_match', 'venue', 'neutral_venue',\n",
       "       'team1', 'team2', 'toss_winner', 'toss_decision', 'winner', 'result',\n",
       "       'result_margin', 'eliminator', 'method', 'umpire1', 'umpire2'],\n",
       "      dtype='object')"
      ]
     },
     "execution_count": 198,
     "metadata": {},
     "output_type": "execute_result"
    }
   ],
   "source": [
    "df_match.columns"
   ]
  },
  {
   "attachments": {},
   "cell_type": "markdown",
   "metadata": {},
   "source": [
    "**Melihat banyaknya nilai dari setiap atribut**"
   ]
  },
  {
   "cell_type": "code",
   "execution_count": 199,
   "metadata": {},
   "outputs": [
    {
     "name": "stdout",
     "output_type": "stream",
     "text": [
      "id : \n",
      "335982     1\n",
      "980963     1\n",
      "980943     1\n",
      "980945     1\n",
      "980947     1\n",
      "          ..\n",
      "548332     1\n",
      "548333     1\n",
      "548334     1\n",
      "548335     1\n",
      "1237181    1\n",
      "Name: id, Length: 816, dtype: int64\n",
      "------------------------------------------------------------\n",
      "city : \n",
      "Mumbai            101\n",
      "Kolkata            77\n",
      "Delhi              74\n",
      "Bangalore          65\n",
      "Hyderabad          64\n",
      "Chennai            57\n",
      "Chandigarh         56\n",
      "Jaipur             47\n",
      "Pune               38\n",
      "Abu Dhabi          29\n",
      "Dubai              26\n",
      "Bengaluru          15\n",
      "Durban             15\n",
      "Visakhapatnam      13\n",
      "Ahmedabad          12\n",
      "Sharjah            12\n",
      "Centurion          12\n",
      "Rajkot             10\n",
      "Dharamsala          9\n",
      "Indore              9\n",
      "Johannesburg        8\n",
      "Cuttack             7\n",
      "Cape Town           7\n",
      "Port Elizabeth      7\n",
      "Ranchi              7\n",
      "Raipur              6\n",
      "Kochi               5\n",
      "Kanpur              4\n",
      "East London         3\n",
      "Kimberley           3\n",
      "Nagpur              3\n",
      "Bloemfontein        2\n",
      "Name: city, dtype: int64\n",
      "------------------------------------------------------------\n",
      "date : \n",
      "11-05-2014    2\n",
      "05-05-2018    2\n",
      "07-04-2013    2\n",
      "06-04-2013    2\n",
      "29-04-2018    2\n",
      "             ..\n",
      "04-05-2013    1\n",
      "03-05-2013    1\n",
      "30-04-2013    1\n",
      "26-04-2013    1\n",
      "10-11-2020    1\n",
      "Name: date, Length: 596, dtype: int64\n",
      "------------------------------------------------------------\n",
      "player_of_match : \n",
      "AB de Villiers    23\n",
      "CH Gayle          22\n",
      "RG Sharma         18\n",
      "DA Warner         17\n",
      "MS Dhoni          17\n",
      "                  ..\n",
      "S Anirudha         1\n",
      "M Kartik           1\n",
      "R McLaren          1\n",
      "RJ Harris          1\n",
      "PJ Cummins         1\n",
      "Name: player_of_match, Length: 233, dtype: int64\n",
      "------------------------------------------------------------\n",
      "venue : \n",
      "Eden Gardens                                            77\n",
      "Feroz Shah Kotla                                        74\n",
      "Wankhede Stadium                                        73\n",
      "M Chinnaswamy Stadium                                   65\n",
      "Rajiv Gandhi International Stadium, Uppal               64\n",
      "MA Chidambaram Stadium, Chepauk                         57\n",
      "Sawai Mansingh Stadium                                  47\n",
      "Punjab Cricket Association Stadium, Mohali              35\n",
      "Dubai International Cricket Stadium                     33\n",
      "Sheikh Zayed Stadium                                    29\n",
      "Punjab Cricket Association IS Bindra Stadium, Mohali    21\n",
      "Maharashtra Cricket Association Stadium                 21\n",
      "Sharjah Cricket Stadium                                 18\n",
      "Dr DY Patil Sports Academy                              17\n",
      "Subrata Roy Sahara Stadium                              17\n",
      "M.Chinnaswamy Stadium                                   15\n",
      "Kingsmead                                               15\n",
      "Dr. Y.S. Rajasekhara Reddy ACA-VDCA Cricket Stadium     13\n",
      "Sardar Patel Stadium, Motera                            12\n",
      "SuperSport Park                                         12\n",
      "Brabourne Stadium                                       11\n",
      "Saurashtra Cricket Association Stadium                  10\n",
      "Himachal Pradesh Cricket Association Stadium             9\n",
      "Holkar Cricket Stadium                                   9\n",
      "New Wanderers Stadium                                    8\n",
      "Barabati Stadium                                         7\n",
      "Newlands                                                 7\n",
      "St George's Park                                         7\n",
      "JSCA International Stadium Complex                       7\n",
      "Shaheed Veer Narayan Singh International Stadium         6\n",
      "Nehru Stadium                                            5\n",
      "Green Park                                               4\n",
      "Buffalo Park                                             3\n",
      "Vidarbha Cricket Association Stadium, Jamtha             3\n",
      "De Beers Diamond Oval                                    3\n",
      "OUTsurance Oval                                          2\n",
      "Name: venue, dtype: int64\n",
      "------------------------------------------------------------\n",
      "neutral_venue : \n",
      "0    739\n",
      "1     77\n",
      "Name: neutral_venue, dtype: int64\n",
      "------------------------------------------------------------\n",
      "team1 : \n",
      "Royal Challengers Bangalore    108\n",
      "Mumbai Indians                  97\n",
      "Kolkata Knight Riders           95\n",
      "Chennai Super Kings             94\n",
      "Kings XI Punjab                 92\n",
      "Delhi Daredevils                83\n",
      "Rajasthan Royals                70\n",
      "Sunrisers Hyderabad             59\n",
      "Deccan Chargers                 39\n",
      "Pune Warriors                   23\n",
      "Delhi Capitals                  19\n",
      "Gujarat Lions                   16\n",
      "Kochi Tuskers Kerala             7\n",
      "Rising Pune Supergiants          7\n",
      "Rising Pune Supergiant           7\n",
      "Name: team1, dtype: int64\n",
      "------------------------------------------------------------\n",
      "team2 : \n",
      "Mumbai Indians                 106\n",
      "Kings XI Punjab                 98\n",
      "Kolkata Knight Riders           97\n",
      "Rajasthan Royals                91\n",
      "Royal Challengers Bangalore     87\n",
      "Chennai Super Kings             84\n",
      "Delhi Daredevils                78\n",
      "Sunrisers Hyderabad             65\n",
      "Deccan Chargers                 36\n",
      "Pune Warriors                   23\n",
      "Gujarat Lions                   14\n",
      "Delhi Capitals                  14\n",
      "Rising Pune Supergiant           9\n",
      "Kochi Tuskers Kerala             7\n",
      "Rising Pune Supergiants          7\n",
      "Name: team2, dtype: int64\n",
      "------------------------------------------------------------\n",
      "toss_winner : \n",
      "Mumbai Indians                 106\n",
      "Kolkata Knight Riders           98\n",
      "Chennai Super Kings             97\n",
      "Royal Challengers Bangalore     87\n",
      "Rajasthan Royals                87\n",
      "Kings XI Punjab                 85\n",
      "Delhi Daredevils                80\n",
      "Sunrisers Hyderabad             57\n",
      "Deccan Chargers                 43\n",
      "Pune Warriors                   20\n",
      "Delhi Capitals                  20\n",
      "Gujarat Lions                   15\n",
      "Kochi Tuskers Kerala             8\n",
      "Rising Pune Supergiants          7\n",
      "Rising Pune Supergiant           6\n",
      "Name: toss_winner, dtype: int64\n",
      "------------------------------------------------------------\n",
      "toss_decision : \n",
      "field    496\n",
      "bat      320\n",
      "Name: toss_decision, dtype: int64\n",
      "------------------------------------------------------------\n",
      "winner : \n",
      "Mumbai Indians                 120\n",
      "Chennai Super Kings            106\n",
      "Kolkata Knight Riders           99\n",
      "Royal Challengers Bangalore     91\n",
      "Kings XI Punjab                 88\n",
      "Rajasthan Royals                81\n",
      "Delhi Daredevils                67\n",
      "Sunrisers Hyderabad             66\n",
      "Deccan Chargers                 29\n",
      "Delhi Capitals                  19\n",
      "Gujarat Lions                   13\n",
      "Pune Warriors                   12\n",
      "Rising Pune Supergiant          10\n",
      "Kochi Tuskers Kerala             6\n",
      "Rising Pune Supergiants          5\n",
      "Name: winner, dtype: int64\n",
      "------------------------------------------------------------\n",
      "result : \n",
      "wickets    435\n",
      "runs       364\n",
      "tie         13\n",
      "Name: result, dtype: int64\n",
      "------------------------------------------------------------\n",
      "result_margin : \n",
      "6.0      95\n",
      "7.0      94\n",
      "5.0      85\n",
      "8.0      67\n",
      "4.0      53\n",
      "         ..\n",
      "42.0      1\n",
      "47.0      1\n",
      "87.0      1\n",
      "130.0     1\n",
      "69.0      1\n",
      "Name: result_margin, Length: 91, dtype: int64\n",
      "------------------------------------------------------------\n",
      "eliminator : \n",
      "N    799\n",
      "Y     13\n",
      "Name: eliminator, dtype: int64\n",
      "------------------------------------------------------------\n",
      "method : \n",
      "D/L    19\n",
      "Name: method, dtype: int64\n",
      "------------------------------------------------------------\n",
      "umpire1 : \n",
      "HDPK Dharmasena          78\n",
      "AK Chaudhary             56\n",
      "Asad Rauf                51\n",
      "M Erasmus                40\n",
      "Aleem Dar                38\n",
      "BF Bowden                37\n",
      "S Ravi                   37\n",
      "BR Doctrove              34\n",
      "CB Gaffaney              34\n",
      "KN Ananthapadmanabhan    33\n",
      "AY Dandekar              28\n",
      "C Shamshuddin            22\n",
      "NJ Llong                 21\n",
      "Nitin Menon              20\n",
      "RE Koertzen              20\n",
      "S Asnani                 19\n",
      "VA Kulkarni              19\n",
      "BNJ Oxenford             16\n",
      "JD Cloete                16\n",
      "YC Barde                 14\n",
      "A Nand Kishore           14\n",
      "BG Jerling               13\n",
      "RK Illingworth           13\n",
      "SS Hazare                11\n",
      "S Das                    10\n",
      "MR Benson                10\n",
      "K Hariharan              10\n",
      "DJ Harper                 9\n",
      "UV Gandhe                 8\n",
      "CK Nandan                 8\n",
      "IL Howell                 7\n",
      "GAV Baxter                7\n",
      "RM Deshpande              7\n",
      "SJ Davis                  6\n",
      "VK Sharma                 6\n",
      "SD Fry                    5\n",
      "RJ Tucker                 5\n",
      "A Deshmukh                5\n",
      "PR Reiffel                5\n",
      "SK Tarapore               5\n",
      "PG Pathak                 4\n",
      "IJ Gould                  3\n",
      "K Bharatan                3\n",
      "AM Saheba                 3\n",
      "AV Jayaprakash            2\n",
      "K Srinath                 2\n",
      "SJA Taufel                1\n",
      "SL Shastri                1\n",
      "Name: umpire1, dtype: int64\n",
      "------------------------------------------------------------\n",
      "umpire2 : \n",
      "S Ravi             84\n",
      "C Shamshuddin      60\n",
      "SJA Taufel         54\n",
      "CK Nandan          49\n",
      "RJ Tucker          41\n",
      "Nitin Menon        37\n",
      "BNJ Oxenford       32\n",
      "VA Kulkarni        31\n",
      "AK Chaudhary       31\n",
      "RB Tiffin          30\n",
      "SK Tarapore        26\n",
      "M Erasmus          25\n",
      "AM Saheba          23\n",
      "RE Koertzen        21\n",
      "VK Sharma          20\n",
      "PR Reiffel         19\n",
      "DJ Harper          18\n",
      "RK Illingworth     18\n",
      "HDPK Dharmasena    16\n",
      "NJ Llong           16\n",
      "CB Gaffaney        13\n",
      "SL Shastri         13\n",
      "K Srinath          13\n",
      "K Hariharan        11\n",
      "A Nand Kishore     11\n",
      "S Asnani           11\n",
      "BR Doctrove         8\n",
      "PG Pathak           7\n",
      "A Deshmukh          7\n",
      "IL Howell           7\n",
      "K Srinivasan        6\n",
      "AL Hill             6\n",
      "SS Hazare           6\n",
      "I Shivram           6\n",
      "GA Pratapkumar      6\n",
      "S Das               5\n",
      "TH Wijewardene      5\n",
      "YC Barde            5\n",
      "BG Jerling          4\n",
      "AV Jayaprakash      4\n",
      "IJ Gould            3\n",
      "SD Ranade           2\n",
      "MR Benson           2\n",
      "Subroto Das         1\n",
      "JD Cloete           1\n",
      "SJ Davis            1\n",
      "SD Fry              1\n",
      "Name: umpire2, dtype: int64\n",
      "------------------------------------------------------------\n"
     ]
    }
   ],
   "source": [
    "for col in df_match.columns:\n",
    "    print(col, ': ')\n",
    "    print(df_match[col].value_counts())\n",
    "    print('-'*60)"
   ]
  },
  {
   "attachments": {},
   "cell_type": "markdown",
   "metadata": {},
   "source": [
    "**Melihat informasi dimensi dari dataset**"
   ]
  },
  {
   "cell_type": "code",
   "execution_count": 200,
   "metadata": {},
   "outputs": [
    {
     "name": "stdout",
     "output_type": "stream",
     "text": [
      "Dimensi data ball:\n",
      "193468 baris\n",
      "18 kolom\n"
     ]
    }
   ],
   "source": [
    "rows, columns = df_ball.shape\n",
    "print(\"Dimensi data ball:\")\n",
    "print(rows, \"baris\")\n",
    "print(columns, \"kolom\")"
   ]
  },
  {
   "attachments": {},
   "cell_type": "markdown",
   "metadata": {},
   "source": [
    "**Melihat nama-nama kolom dari dataframe**"
   ]
  },
  {
   "cell_type": "code",
   "execution_count": 201,
   "metadata": {},
   "outputs": [
    {
     "data": {
      "text/plain": [
       "Index(['id', 'inning', 'over', 'ball', 'batsman', 'non_striker', 'bowler',\n",
       "       'batsman_runs', 'extra_runs', 'total_runs', 'non_boundary', 'is_wicket',\n",
       "       'dismissal_kind', 'player_dismissed', 'fielder', 'extras_type',\n",
       "       'batting_team', 'bowling_team'],\n",
       "      dtype='object')"
      ]
     },
     "execution_count": 201,
     "metadata": {},
     "output_type": "execute_result"
    }
   ],
   "source": [
    "df_ball.columns"
   ]
  },
  {
   "attachments": {},
   "cell_type": "markdown",
   "metadata": {},
   "source": [
    "**Melihat banyaknya nilai dari setiap atribut**"
   ]
  },
  {
   "cell_type": "code",
   "execution_count": 202,
   "metadata": {},
   "outputs": [
    {
     "name": "stdout",
     "output_type": "stream",
     "text": [
      "id : \n",
      "829737     262\n",
      "829811     259\n",
      "1216522    259\n",
      "1178423    257\n",
      "419142     257\n",
      "          ... \n",
      "392183     108\n",
      "829807     106\n",
      "598068     100\n",
      "501265      63\n",
      "1178424     51\n",
      "Name: id, Length: 816, dtype: int64\n",
      "----------------------------------------\n",
      "inning : \n",
      "1    100191\n",
      "2     93277\n",
      "Name: inning, dtype: int64\n",
      "----------------------------------------\n",
      "over : \n",
      "1     10255\n",
      "0     10254\n",
      "2     10155\n",
      "3     10115\n",
      "4     10092\n",
      "5     10067\n",
      "6     10021\n",
      "7      9993\n",
      "8      9964\n",
      "9      9920\n",
      "10     9864\n",
      "11     9833\n",
      "12     9806\n",
      "13     9712\n",
      "14     9638\n",
      "15     9477\n",
      "16     9358\n",
      "17     9086\n",
      "18     8531\n",
      "19     7327\n",
      "Name: over, dtype: int64\n",
      "----------------------------------------\n",
      "ball : \n",
      "1    31372\n",
      "2    31285\n",
      "3    31200\n",
      "4    31129\n",
      "5    31032\n",
      "6    30929\n",
      "7     5521\n",
      "8      865\n",
      "9      135\n",
      "Name: ball, dtype: int64\n",
      "----------------------------------------\n",
      "batsman : \n",
      "V Kohli           4609\n",
      "S Dhawan          4208\n",
      "RG Sharma         4088\n",
      "SK Raina          4041\n",
      "DA Warner         3819\n",
      "                  ... \n",
      "DP Vijaykumar        1\n",
      "V Pratap Singh       1\n",
      "Sunny Gupta          1\n",
      "JL Denly             1\n",
      "U Kaul               1\n",
      "Name: batsman, Length: 537, dtype: int64\n",
      "----------------------------------------\n",
      "non_striker : \n",
      "S Dhawan            4593\n",
      "V Kohli             4459\n",
      "SK Raina            4173\n",
      "RG Sharma           4139\n",
      "G Gambhir           3740\n",
      "                    ... \n",
      "S Randiv               1\n",
      "Shahbaz Ahmed          1\n",
      "TP Sudhindra           1\n",
      "PM Sarvesh Kumar       1\n",
      "BW Hilfenhaus          1\n",
      "Name: non_striker, Length: 530, dtype: int64\n",
      "----------------------------------------\n",
      "bowler : \n",
      "Harbhajan Singh    3451\n",
      "R Ashwin           3327\n",
      "PP Chawla          3285\n",
      "A Mishra           3233\n",
      "SL Malinga         2974\n",
      "                   ... \n",
      "B Chipli              6\n",
      "SPD Smith             2\n",
      "SN Khan               2\n",
      "DA Warner             2\n",
      "AC Gilchrist          1\n",
      "Name: bowler, Length: 420, dtype: int64\n",
      "----------------------------------------\n",
      "batsman_runs : \n",
      "0    77637\n",
      "1    71937\n",
      "4    21908\n",
      "2    12408\n",
      "6     8902\n",
      "3      616\n",
      "5       60\n",
      "Name: batsman_runs, dtype: int64\n",
      "----------------------------------------\n",
      "extra_runs : \n",
      "0    183235\n",
      "1      9120\n",
      "2       440\n",
      "4       368\n",
      "5       229\n",
      "3        75\n",
      "7         1\n",
      "Name: extra_runs, dtype: int64\n",
      "----------------------------------------\n",
      "total_runs : \n",
      "1    80368\n",
      "0    67841\n",
      "4    22187\n",
      "2    13056\n",
      "6     8850\n",
      "3      735\n",
      "5      378\n",
      "7       53\n",
      "Name: total_runs, dtype: int64\n",
      "----------------------------------------\n",
      "non_boundary : \n",
      "0    193452\n",
      "1        16\n",
      "Name: non_boundary, dtype: int64\n",
      "----------------------------------------\n",
      "is_wicket : \n",
      "0    183973\n",
      "1      9495\n",
      "Name: is_wicket, dtype: int64\n",
      "----------------------------------------\n",
      "dismissal_kind : \n",
      "caught                   5743\n",
      "bowled                   1700\n",
      "run out                   893\n",
      "lbw                       571\n",
      "stumped                   294\n",
      "caught and bowled         269\n",
      "hit wicket                 12\n",
      "retired hurt               11\n",
      "obstructing the field       2\n",
      "Name: dismissal_kind, dtype: int64\n",
      "----------------------------------------\n",
      "player_dismissed : \n",
      "RG Sharma         167\n",
      "RV Uthappa        165\n",
      "SK Raina          161\n",
      "V Kohli           154\n",
      "S Dhawan          152\n",
      "                 ... \n",
      "Sunny Gupta         1\n",
      "VS Yeligati         1\n",
      "A Nel               1\n",
      "V Pratap Singh      1\n",
      "DR Sams             1\n",
      "Name: player_dismissed, Length: 506, dtype: int64\n",
      "----------------------------------------\n",
      "fielder : \n",
      "MS Dhoni                          164\n",
      "KD Karthik                        156\n",
      "RV Uthappa                        123\n",
      "AB de Villiers                    117\n",
      "SK Raina                          105\n",
      "                                 ... \n",
      "RA Jadeja,BJ Hodge                  1\n",
      "DT Christian,Anand Rajan            1\n",
      "Y Nagar,IK Pathan                   1\n",
      "AB de Villiers,KB Arun Karthik      1\n",
      "P Dubey                             1\n",
      "Name: fielder, Length: 879, dtype: int64\n",
      "----------------------------------------\n",
      "extras_type : \n",
      "wides      5858\n",
      "legbyes    3107\n",
      "noballs     758\n",
      "byes        508\n",
      "penalty       2\n",
      "Name: extras_type, dtype: int64\n",
      "----------------------------------------\n",
      "batting_team : \n",
      "Mumbai Indians                 24466\n",
      "Royal Challengers Bangalore    22706\n",
      "Kings XI Punjab                22622\n",
      "Kolkata Knight Riders          22554\n",
      "Chennai Super Kings            21455\n",
      "Rajasthan Royals               18954\n",
      "Delhi Daredevils               18780\n",
      "Sunrisers Hyderabad            14826\n",
      "Deccan Chargers                 9034\n",
      "Pune Warriors                   5443\n",
      "Delhi Capitals                  4008\n",
      "Gujarat Lions                   3558\n",
      "Rising Pune Supergiant          1900\n",
      "Kochi Tuskers Kerala            1582\n",
      "Rising Pune Supergiants         1580\n",
      "Name: batting_team, dtype: int64\n",
      "----------------------------------------\n",
      "bowling_team : \n",
      "Mumbai Indians                 24453\n",
      "Royal Challengers Bangalore    23024\n",
      "Kolkata Knight Riders          22583\n",
      "Kings XI Punjab                22457\n",
      "Chennai Super Kings            21224\n",
      "Rajasthan Royals               18972\n",
      "Delhi Daredevils               18719\n",
      "Sunrisers Hyderabad            14703\n",
      "Deccan Chargers                 9039\n",
      "Pune Warriors                   5394\n",
      "Delhi Capitals                  4012\n",
      "Gujarat Lions                   3540\n",
      "Rising Pune Supergiant          1928\n",
      "Rising Pune Supergiants         1615\n",
      "Kochi Tuskers Kerala            1614\n",
      "Name: bowling_team, dtype: int64\n",
      "----------------------------------------\n"
     ]
    }
   ],
   "source": [
    "for col in df_ball.columns:\n",
    "    print(col, ': ')\n",
    "    print(df_ball[col].value_counts())\n",
    "    print('-'*40)"
   ]
  },
  {
   "attachments": {},
   "cell_type": "markdown",
   "metadata": {},
   "source": [
    "**Melihat deskripsi statistik dasar dari df_match**"
   ]
  },
  {
   "cell_type": "code",
   "execution_count": 203,
   "metadata": {},
   "outputs": [
    {
     "data": {
      "text/html": [
       "<div>\n",
       "<style scoped>\n",
       "    .dataframe tbody tr th:only-of-type {\n",
       "        vertical-align: middle;\n",
       "    }\n",
       "\n",
       "    .dataframe tbody tr th {\n",
       "        vertical-align: top;\n",
       "    }\n",
       "\n",
       "    .dataframe thead th {\n",
       "        text-align: right;\n",
       "    }\n",
       "</style>\n",
       "<table border=\"1\" class=\"dataframe\">\n",
       "  <thead>\n",
       "    <tr style=\"text-align: right;\">\n",
       "      <th></th>\n",
       "      <th>count</th>\n",
       "      <th>mean</th>\n",
       "      <th>std</th>\n",
       "      <th>min</th>\n",
       "      <th>25%</th>\n",
       "      <th>50%</th>\n",
       "      <th>75%</th>\n",
       "      <th>max</th>\n",
       "    </tr>\n",
       "  </thead>\n",
       "  <tbody>\n",
       "    <tr>\n",
       "      <th>id</th>\n",
       "      <td>816.0</td>\n",
       "      <td>756349.553922</td>\n",
       "      <td>305894.254804</td>\n",
       "      <td>335982.0</td>\n",
       "      <td>501227.75</td>\n",
       "      <td>729298.0</td>\n",
       "      <td>1082626.25</td>\n",
       "      <td>1237181.0</td>\n",
       "    </tr>\n",
       "    <tr>\n",
       "      <th>neutral_venue</th>\n",
       "      <td>816.0</td>\n",
       "      <td>0.094363</td>\n",
       "      <td>0.292512</td>\n",
       "      <td>0.0</td>\n",
       "      <td>0.00</td>\n",
       "      <td>0.0</td>\n",
       "      <td>0.00</td>\n",
       "      <td>1.0</td>\n",
       "    </tr>\n",
       "    <tr>\n",
       "      <th>result_margin</th>\n",
       "      <td>799.0</td>\n",
       "      <td>17.321652</td>\n",
       "      <td>22.068427</td>\n",
       "      <td>1.0</td>\n",
       "      <td>6.00</td>\n",
       "      <td>8.0</td>\n",
       "      <td>19.50</td>\n",
       "      <td>146.0</td>\n",
       "    </tr>\n",
       "  </tbody>\n",
       "</table>\n",
       "</div>"
      ],
      "text/plain": [
       "               count           mean            std       min        25%  \\\n",
       "id             816.0  756349.553922  305894.254804  335982.0  501227.75   \n",
       "neutral_venue  816.0       0.094363       0.292512       0.0       0.00   \n",
       "result_margin  799.0      17.321652      22.068427       1.0       6.00   \n",
       "\n",
       "                    50%         75%        max  \n",
       "id             729298.0  1082626.25  1237181.0  \n",
       "neutral_venue       0.0        0.00        1.0  \n",
       "result_margin       8.0       19.50      146.0  "
      ]
     },
     "execution_count": 203,
     "metadata": {},
     "output_type": "execute_result"
    }
   ],
   "source": [
    "df_match.describe().T"
   ]
  },
  {
   "attachments": {},
   "cell_type": "markdown",
   "metadata": {},
   "source": [
    "**Melihat deskripsi statistik dasar dari df_ball**"
   ]
  },
  {
   "cell_type": "code",
   "execution_count": 204,
   "metadata": {},
   "outputs": [
    {
     "data": {
      "text/html": [
       "<div>\n",
       "<style scoped>\n",
       "    .dataframe tbody tr th:only-of-type {\n",
       "        vertical-align: middle;\n",
       "    }\n",
       "\n",
       "    .dataframe tbody tr th {\n",
       "        vertical-align: top;\n",
       "    }\n",
       "\n",
       "    .dataframe thead th {\n",
       "        text-align: right;\n",
       "    }\n",
       "</style>\n",
       "<table border=\"1\" class=\"dataframe\">\n",
       "  <thead>\n",
       "    <tr style=\"text-align: right;\">\n",
       "      <th></th>\n",
       "      <th>count</th>\n",
       "      <th>mean</th>\n",
       "      <th>std</th>\n",
       "      <th>min</th>\n",
       "      <th>25%</th>\n",
       "      <th>50%</th>\n",
       "      <th>75%</th>\n",
       "      <th>max</th>\n",
       "    </tr>\n",
       "  </thead>\n",
       "  <tbody>\n",
       "    <tr>\n",
       "      <th>id</th>\n",
       "      <td>193468.0</td>\n",
       "      <td>756768.808439</td>\n",
       "      <td>306097.091418</td>\n",
       "      <td>335982.0</td>\n",
       "      <td>501227.0</td>\n",
       "      <td>729297.0</td>\n",
       "      <td>1082628.0</td>\n",
       "      <td>1237181.0</td>\n",
       "    </tr>\n",
       "    <tr>\n",
       "      <th>inning</th>\n",
       "      <td>193468.0</td>\n",
       "      <td>1.482131</td>\n",
       "      <td>0.499682</td>\n",
       "      <td>1.0</td>\n",
       "      <td>1.0</td>\n",
       "      <td>1.0</td>\n",
       "      <td>2.0</td>\n",
       "      <td>2.0</td>\n",
       "    </tr>\n",
       "    <tr>\n",
       "      <th>over</th>\n",
       "      <td>193468.0</td>\n",
       "      <td>9.177027</td>\n",
       "      <td>5.676848</td>\n",
       "      <td>0.0</td>\n",
       "      <td>4.0</td>\n",
       "      <td>9.0</td>\n",
       "      <td>14.0</td>\n",
       "      <td>19.0</td>\n",
       "    </tr>\n",
       "    <tr>\n",
       "      <th>ball</th>\n",
       "      <td>193468.0</td>\n",
       "      <td>3.615967</td>\n",
       "      <td>1.807128</td>\n",
       "      <td>1.0</td>\n",
       "      <td>2.0</td>\n",
       "      <td>4.0</td>\n",
       "      <td>5.0</td>\n",
       "      <td>9.0</td>\n",
       "    </tr>\n",
       "    <tr>\n",
       "      <th>batsman_runs</th>\n",
       "      <td>193468.0</td>\n",
       "      <td>1.240231</td>\n",
       "      <td>1.610867</td>\n",
       "      <td>0.0</td>\n",
       "      <td>0.0</td>\n",
       "      <td>1.0</td>\n",
       "      <td>1.0</td>\n",
       "      <td>6.0</td>\n",
       "    </tr>\n",
       "    <tr>\n",
       "      <th>extra_runs</th>\n",
       "      <td>193468.0</td>\n",
       "      <td>0.066414</td>\n",
       "      <td>0.339991</td>\n",
       "      <td>0.0</td>\n",
       "      <td>0.0</td>\n",
       "      <td>0.0</td>\n",
       "      <td>0.0</td>\n",
       "      <td>7.0</td>\n",
       "    </tr>\n",
       "    <tr>\n",
       "      <th>total_runs</th>\n",
       "      <td>193468.0</td>\n",
       "      <td>1.306645</td>\n",
       "      <td>1.598802</td>\n",
       "      <td>0.0</td>\n",
       "      <td>0.0</td>\n",
       "      <td>1.0</td>\n",
       "      <td>1.0</td>\n",
       "      <td>7.0</td>\n",
       "    </tr>\n",
       "    <tr>\n",
       "      <th>non_boundary</th>\n",
       "      <td>193468.0</td>\n",
       "      <td>0.000083</td>\n",
       "      <td>0.009094</td>\n",
       "      <td>0.0</td>\n",
       "      <td>0.0</td>\n",
       "      <td>0.0</td>\n",
       "      <td>0.0</td>\n",
       "      <td>1.0</td>\n",
       "    </tr>\n",
       "    <tr>\n",
       "      <th>is_wicket</th>\n",
       "      <td>193468.0</td>\n",
       "      <td>0.049078</td>\n",
       "      <td>0.216031</td>\n",
       "      <td>0.0</td>\n",
       "      <td>0.0</td>\n",
       "      <td>0.0</td>\n",
       "      <td>0.0</td>\n",
       "      <td>1.0</td>\n",
       "    </tr>\n",
       "  </tbody>\n",
       "</table>\n",
       "</div>"
      ],
      "text/plain": [
       "                 count           mean            std       min       25%  \\\n",
       "id            193468.0  756768.808439  306097.091418  335982.0  501227.0   \n",
       "inning        193468.0       1.482131       0.499682       1.0       1.0   \n",
       "over          193468.0       9.177027       5.676848       0.0       4.0   \n",
       "ball          193468.0       3.615967       1.807128       1.0       2.0   \n",
       "batsman_runs  193468.0       1.240231       1.610867       0.0       0.0   \n",
       "extra_runs    193468.0       0.066414       0.339991       0.0       0.0   \n",
       "total_runs    193468.0       1.306645       1.598802       0.0       0.0   \n",
       "non_boundary  193468.0       0.000083       0.009094       0.0       0.0   \n",
       "is_wicket     193468.0       0.049078       0.216031       0.0       0.0   \n",
       "\n",
       "                   50%        75%        max  \n",
       "id            729297.0  1082628.0  1237181.0  \n",
       "inning             1.0        2.0        2.0  \n",
       "over               9.0       14.0       19.0  \n",
       "ball               4.0        5.0        9.0  \n",
       "batsman_runs       1.0        1.0        6.0  \n",
       "extra_runs         0.0        0.0        7.0  \n",
       "total_runs         1.0        1.0        7.0  \n",
       "non_boundary       0.0        0.0        1.0  \n",
       "is_wicket          0.0        0.0        1.0  "
      ]
     },
     "execution_count": 204,
     "metadata": {},
     "output_type": "execute_result"
    }
   ],
   "source": [
    "df_ball.describe().T"
   ]
  },
  {
   "attachments": {},
   "cell_type": "markdown",
   "metadata": {},
   "source": [
    "# C. Data Cleaning\n",
    "***"
   ]
  },
  {
   "attachments": {},
   "cell_type": "markdown",
   "metadata": {},
   "source": [
    "**Melihat jumlah data yang unik dari df_ball**"
   ]
  },
  {
   "cell_type": "code",
   "execution_count": 205,
   "metadata": {},
   "outputs": [
    {
     "data": {
      "text/plain": [
       "id                  816\n",
       "inning                2\n",
       "over                 20\n",
       "ball                  9\n",
       "batsman             537\n",
       "non_striker         530\n",
       "bowler              420\n",
       "batsman_runs          7\n",
       "extra_runs            7\n",
       "total_runs            8\n",
       "non_boundary          2\n",
       "is_wicket             2\n",
       "dismissal_kind        9\n",
       "player_dismissed    506\n",
       "fielder             879\n",
       "extras_type           5\n",
       "batting_team         15\n",
       "bowling_team         15\n",
       "dtype: int64"
      ]
     },
     "execution_count": 205,
     "metadata": {},
     "output_type": "execute_result"
    }
   ],
   "source": [
    "df_ball.nunique()"
   ]
  },
  {
   "attachments": {},
   "cell_type": "markdown",
   "metadata": {},
   "source": [
    "**Mengecek missing values dari df_ball**"
   ]
  },
  {
   "cell_type": "code",
   "execution_count": 206,
   "metadata": {},
   "outputs": [
    {
     "data": {
      "text/plain": [
       "id                       0\n",
       "inning                   0\n",
       "over                     0\n",
       "ball                     0\n",
       "batsman                  0\n",
       "non_striker              0\n",
       "bowler                   0\n",
       "batsman_runs             0\n",
       "extra_runs               0\n",
       "total_runs               0\n",
       "non_boundary             0\n",
       "is_wicket                0\n",
       "dismissal_kind      183973\n",
       "player_dismissed    183973\n",
       "fielder             186684\n",
       "extras_type         183235\n",
       "batting_team             0\n",
       "bowling_team           191\n",
       "dtype: int64"
      ]
     },
     "execution_count": 206,
     "metadata": {},
     "output_type": "execute_result"
    }
   ],
   "source": [
    "df_ball.isnull().sum()"
   ]
  },
  {
   "attachments": {},
   "cell_type": "markdown",
   "metadata": {},
   "source": [
    "**Mengganti nilai missing values dalam df_ball dengan Unknown**"
   ]
  },
  {
   "cell_type": "code",
   "execution_count": 207,
   "metadata": {},
   "outputs": [],
   "source": [
    "df_ball[\"dismissal_kind\"] = df_ball[\"dismissal_kind\"].fillna(\"unknown\")\n",
    "df_ball[\"player_dismissed\"] = df_ball[\"player_dismissed\"].fillna(\"unknown\")\n",
    "df_ball[\"fielder\"] = df_ball[\"fielder\"].fillna(\"unknown\")\n",
    "df_ball[\"extras_type\"] = df_ball[\"extras_type\"].fillna(\"unknown\")\n",
    "df_ball[\"bowling_team\"] = df_ball[\"bowling_team\"].fillna(\"unknown\")"
   ]
  },
  {
   "attachments": {},
   "cell_type": "markdown",
   "metadata": {},
   "source": [
    "**Mengecek kembali missing values dari df_ball**"
   ]
  },
  {
   "cell_type": "code",
   "execution_count": 208,
   "metadata": {},
   "outputs": [
    {
     "data": {
      "text/plain": [
       "id                  0\n",
       "inning              0\n",
       "over                0\n",
       "ball                0\n",
       "batsman             0\n",
       "non_striker         0\n",
       "bowler              0\n",
       "batsman_runs        0\n",
       "extra_runs          0\n",
       "total_runs          0\n",
       "non_boundary        0\n",
       "is_wicket           0\n",
       "dismissal_kind      0\n",
       "player_dismissed    0\n",
       "fielder             0\n",
       "extras_type         0\n",
       "batting_team        0\n",
       "bowling_team        0\n",
       "dtype: int64"
      ]
     },
     "execution_count": 208,
     "metadata": {},
     "output_type": "execute_result"
    }
   ],
   "source": [
    "df_ball.isnull().sum()"
   ]
  },
  {
   "attachments": {},
   "cell_type": "markdown",
   "metadata": {},
   "source": [
    "**Melihat jumlah data yang unik dari df_match**"
   ]
  },
  {
   "cell_type": "code",
   "execution_count": 209,
   "metadata": {},
   "outputs": [
    {
     "data": {
      "text/plain": [
       "id                 816\n",
       "city                32\n",
       "date               596\n",
       "player_of_match    233\n",
       "venue               36\n",
       "neutral_venue        2\n",
       "team1               15\n",
       "team2               15\n",
       "toss_winner         15\n",
       "toss_decision        2\n",
       "winner              15\n",
       "result               3\n",
       "result_margin       91\n",
       "eliminator           2\n",
       "method               1\n",
       "umpire1             48\n",
       "umpire2             47\n",
       "dtype: int64"
      ]
     },
     "execution_count": 209,
     "metadata": {},
     "output_type": "execute_result"
    }
   ],
   "source": [
    "df_match.nunique()"
   ]
  },
  {
   "attachments": {},
   "cell_type": "markdown",
   "metadata": {},
   "source": [
    "**Mengecek missing values dari df_match**"
   ]
  },
  {
   "cell_type": "code",
   "execution_count": 210,
   "metadata": {},
   "outputs": [
    {
     "data": {
      "text/plain": [
       "id                   0\n",
       "city                13\n",
       "date                 0\n",
       "player_of_match      4\n",
       "venue                0\n",
       "neutral_venue        0\n",
       "team1                0\n",
       "team2                0\n",
       "toss_winner          0\n",
       "toss_decision        0\n",
       "winner               4\n",
       "result               4\n",
       "result_margin       17\n",
       "eliminator           4\n",
       "method             797\n",
       "umpire1              0\n",
       "umpire2              0\n",
       "dtype: int64"
      ]
     },
     "execution_count": 210,
     "metadata": {},
     "output_type": "execute_result"
    }
   ],
   "source": [
    "df_match.isnull().sum()"
   ]
  },
  {
   "attachments": {},
   "cell_type": "markdown",
   "metadata": {},
   "source": [
    "**Mengganti nilai missing values dalam df_match dengan Unknown**"
   ]
  },
  {
   "cell_type": "code",
   "execution_count": 211,
   "metadata": {},
   "outputs": [],
   "source": [
    "df_match[\"city\"] = df_match[\"city\"].fillna(\"unknown\")\n",
    "df_match[\"player_of_match\"] = df_match[\"player_of_match\"].fillna(\"unknown\")\n",
    "df_match[\"winner\"] = df_match[\"winner\"].fillna(\"unknown\")\n",
    "df_match[\"result\"] = df_match[\"result\"].fillna(\"unknown\")\n",
    "df_match[\"eliminator\"] = df_match[\"eliminator\"].fillna(\"unknown\")\n",
    "df_match[\"method\"] = df_match[\"method\"].fillna(\"unknown\")\n",
    "\n",
    "df_match[\"result_margin\"].fillna(value=df_match[\"result_margin\"].median(), inplace=True)"
   ]
  },
  {
   "attachments": {},
   "cell_type": "markdown",
   "metadata": {},
   "source": [
    "**Mengecek kembali missing values dari df_match**"
   ]
  },
  {
   "cell_type": "code",
   "execution_count": 212,
   "metadata": {},
   "outputs": [
    {
     "data": {
      "text/plain": [
       "id                 0\n",
       "city               0\n",
       "date               0\n",
       "player_of_match    0\n",
       "venue              0\n",
       "neutral_venue      0\n",
       "team1              0\n",
       "team2              0\n",
       "toss_winner        0\n",
       "toss_decision      0\n",
       "winner             0\n",
       "result             0\n",
       "result_margin      0\n",
       "eliminator         0\n",
       "method             0\n",
       "umpire1            0\n",
       "umpire2            0\n",
       "dtype: int64"
      ]
     },
     "execution_count": 212,
     "metadata": {},
     "output_type": "execute_result"
    }
   ],
   "source": [
    "df_match.isnull().sum()"
   ]
  },
  {
   "attachments": {},
   "cell_type": "markdown",
   "metadata": {},
   "source": [
    "**Mengecek data duplikat**"
   ]
  },
  {
   "cell_type": "code",
   "execution_count": 213,
   "metadata": {},
   "outputs": [
    {
     "name": "stdout",
     "output_type": "stream",
     "text": [
      "Jumlah duplicated data dari df_ball = 1\n",
      "Jumlah duplicated data dari df_match = 0\n"
     ]
    }
   ],
   "source": [
    "print(\"Jumlah duplicated data dari df_ball =\", df_ball.duplicated().sum())\n",
    "print(\"Jumlah duplicated data dari df_match =\", df_match.duplicated().sum())"
   ]
  },
  {
   "attachments": {},
   "cell_type": "markdown",
   "metadata": {},
   "source": [
    "**Menghapus data duplikat**"
   ]
  },
  {
   "cell_type": "code",
   "execution_count": 214,
   "metadata": {},
   "outputs": [],
   "source": [
    "df_ball.drop_duplicates(subset=df_ball.columns, keep='first', inplace=True)"
   ]
  },
  {
   "attachments": {},
   "cell_type": "markdown",
   "metadata": {},
   "source": [
    "**Mengecek kembali data duplikat**"
   ]
  },
  {
   "cell_type": "code",
   "execution_count": 215,
   "metadata": {},
   "outputs": [
    {
     "name": "stdout",
     "output_type": "stream",
     "text": [
      "Jumlah duplicated data dari df_ball = 0\n",
      "Jumlah duplicated data dari df_match = 0\n"
     ]
    }
   ],
   "source": [
    "print(\"Jumlah duplicated data dari df_ball =\", df_ball.duplicated().sum())\n",
    "print(\"Jumlah duplicated data dari df_match =\", df_match.duplicated().sum())"
   ]
  },
  {
   "attachments": {},
   "cell_type": "markdown",
   "metadata": {},
   "source": [
    "**Melihat kembali informasi dimensi dari df_ball**"
   ]
  },
  {
   "cell_type": "code",
   "execution_count": 216,
   "metadata": {},
   "outputs": [
    {
     "name": "stdout",
     "output_type": "stream",
     "text": [
      "Dimensi data:\n",
      "193467 baris\n",
      "18 kolom\n"
     ]
    }
   ],
   "source": [
    "rows, columns = df_ball.shape\n",
    "print(\"Dimensi data:\")\n",
    "print(rows, \"baris\")\n",
    "print(columns, \"kolom\")"
   ]
  },
  {
   "attachments": {},
   "cell_type": "markdown",
   "metadata": {},
   "source": [
    "**Melihat kembali informasi dimensi dari df_match**"
   ]
  },
  {
   "cell_type": "code",
   "execution_count": 217,
   "metadata": {},
   "outputs": [
    {
     "name": "stdout",
     "output_type": "stream",
     "text": [
      "Dimensi data:\n",
      "816 baris\n",
      "17 kolom\n"
     ]
    }
   ],
   "source": [
    "rows, columns = df_match.shape\n",
    "print(\"Dimensi data:\")\n",
    "print(rows, \"baris\")\n",
    "print(columns, \"kolom\")"
   ]
  },
  {
   "attachments": {},
   "cell_type": "markdown",
   "metadata": {},
   "source": [
    "# D. Exploratory Data Analysis (EDA)\n",
    "***"
   ]
  },
  {
   "attachments": {},
   "cell_type": "markdown",
   "metadata": {},
   "source": [
    "**Melihat distribusi pada kolom numerik dari df_ball**"
   ]
  },
  {
   "cell_type": "code",
   "execution_count": 218,
   "metadata": {},
   "outputs": [
    {
     "data": {
      "image/png": "[encoded data removed]",
      "text/plain": [
       "<Figure size 1440x1440 with 9 Axes>"
      ]
     },
     "metadata": {
      "needs_background": "light"
     },
     "output_type": "display_data"
    }
   ],
   "source": [
    "df_1 = df_ball\n",
    "num_cols = df_1.select_dtypes(include=['float64', 'int64']).columns.tolist()\n",
    "plt.figure(figsize=(20,20))\n",
    "for i, col in enumerate(num_cols):\n",
    "    plt.subplot(3,3,i+1)\n",
    "    plt.title(col, fontsize=13)\n",
    "    plt.xlabel('Frequency', fontsize=13)\n",
    "    plt.ylabel(\"Count\", fontsize=13)\n",
    "    plt.subplots_adjust(hspace=0.5, wspace=0.3)\n",
    "    sns.histplot(data=df_1, x=col, bins=10, kde=True)"
   ]
  },
  {
   "attachments": {},
   "cell_type": "markdown",
   "metadata": {},
   "source": [
    "**Melihat distribusi pada kolom numerik dari df_match**"
   ]
  },
  {
   "cell_type": "code",
   "execution_count": 219,
   "metadata": {},
   "outputs": [
    {
     "data": {
      "image/png": "[encoded data removed]",
      "text/plain": [
       "<Figure size 1440x1440 with 3 Axes>"
      ]
     },
     "metadata": {
      "needs_background": "light"
     },
     "output_type": "display_data"
    }
   ],
   "source": [
    "df_2 = df_match\n",
    "num_cols2 = df_2.select_dtypes(include=['float64', 'int64']).columns.tolist()\n",
    "plt.figure(figsize=(20,20))\n",
    "for i, col in enumerate(num_cols2):\n",
    "    plt.subplot(1,3,i+1)\n",
    "    plt.title(col, fontsize=13)\n",
    "    plt.xlabel('Frequency', fontsize=13)\n",
    "    plt.ylabel(\"Count\", fontsize=13)\n",
    "    plt.subplots_adjust(hspace=0.5, wspace=0.3)\n",
    "    sns.histplot(data=df_2, x=col, bins=10, kde=True)"
   ]
  },
  {
   "attachments": {},
   "cell_type": "markdown",
   "metadata": {},
   "source": [
    "## Melihat Measure of Central Tedency dan Measured of Spread dari df_ball"
   ]
  },
  {
   "cell_type": "code",
   "execution_count": 220,
   "metadata": {},
   "outputs": [
    {
     "name": "stdout",
     "output_type": "stream",
     "text": [
      "Nilai Minimum dari id         = 335982\n",
      "Nilai Rata-Rata dari id       = 756770.5535259243\n",
      "Nilai Median dari id          = 729297.0\n",
      "Nilai Standar Deviasi dari id = 306096.9201031315\n",
      "Nilai Variance dari id        = 93695324496.62286\n",
      "Nilai Maximum dari id         = 1237181\n",
      "Nilai Range dari id           = 901199 \n",
      "\n",
      "Nilai Minimum dari inning         = 1\n",
      "Nilai Rata-Rata dari inning       = 1.4821339039732875\n",
      "Nilai Median dari inning          = 1.0\n",
      "Nilai Standar Deviasi dari inning = 0.49968199205008157\n",
      "Nilai Variance dari inning        = 0.24968209317913778\n",
      "Nilai Maximum dari inning         = 2\n",
      "Nilai Range dari inning           = 1 \n",
      "\n",
      "Nilai Minimum dari over         = 0\n",
      "Nilai Rata-Rata dari over       = 9.1770586198163\n",
      "Nilai Median dari over          = 9.0\n",
      "Nilai Standar Deviasi dari over = 5.676845195318358\n",
      "Nilai Variance dari over        = 32.226571371609126\n",
      "Nilai Maximum dari over         = 19\n",
      "Nilai Range dari over           = 19 \n",
      "\n",
      "Nilai Minimum dari ball         = 1\n",
      "Nilai Rata-Rata dari ball       = 3.6159810200189177\n",
      "Nilai Median dari ball          = 4.0\n",
      "Nilai Standar Deviasi dari ball = 1.807122490912222\n",
      "Nilai Variance dari ball        = 3.265691697160794\n",
      "Nilai Maximum dari ball         = 9\n",
      "Nilai Range dari ball           = 8 \n",
      "\n",
      "Nilai Minimum dari batsman_runs         = 0\n",
      "Nilai Rata-Rata dari batsman_runs       = 1.240232184300165\n",
      "Nilai Median dari batsman_runs          = 1.0\n",
      "Nilai Standar Deviasi dari batsman_runs = 1.6108706226286569\n",
      "Nilai Variance dari batsman_runs        = 2.5949041628480365\n",
      "Nilai Maximum dari batsman_runs         = 6\n",
      "Nilai Range dari batsman_runs           = 6 \n",
      "\n",
      "Nilai Minimum dari extra_runs         = 0\n",
      "Nilai Rata-Rata dari extra_runs       = 0.06641442726666563\n",
      "Nilai Median dari extra_runs          = 0.0\n",
      "Nilai Standar Deviasi dari extra_runs = 0.3399921814219357\n",
      "Nilai Variance dari extra_runs        = 0.11559468342804646\n",
      "Nilai Maximum dari extra_runs         = 7\n",
      "Nilai Range dari extra_runs           = 7 \n",
      "\n",
      "Nilai Minimum dari total_runs         = 0\n",
      "Nilai Rata-Rata dari total_runs       = 1.3066466115668305\n",
      "Nilai Median dari total_runs          = 1.0\n",
      "Nilai Standar Deviasi dari total_runs = 1.5988057449271011\n",
      "Nilai Variance dari total_runs        = 2.556179810011903\n",
      "Nilai Maximum dari total_runs         = 7\n",
      "Nilai Range dari total_runs           = 7 \n",
      "\n",
      "Nilai Minimum dari non_boundary         = 0\n",
      "Nilai Rata-Rata dari non_boundary       = 8.270144262328977e-05\n",
      "Nilai Median dari non_boundary          = 0.0\n",
      "Nilai Standar Deviasi dari non_boundary = 0.009093680802175269\n",
      "Nilai Variance dari non_boundary        = 8.269503053185105e-05\n",
      "Nilai Maximum dari non_boundary         = 1\n",
      "Nilai Range dari non_boundary           = 1 \n",
      "\n",
      "Nilai Minimum dari is_wicket         = 0\n",
      "Nilai Rata-Rata dari is_wicket       = 0.04907813735675852\n",
      "Nilai Median dari is_wicket          = 0.0\n",
      "Nilai Standar Deviasi dari is_wicket = 0.2160317453956628\n",
      "Nilai Variance dari is_wicket        = 0.04666971501869648\n",
      "Nilai Maximum dari is_wicket         = 1\n",
      "Nilai Range dari is_wicket           = 1 \n",
      "\n"
     ]
    }
   ],
   "source": [
    "def numEDA_ball():\n",
    "    df_3 = df_ball\n",
    "    numBall_cols = df_3.select_dtypes(include=['float64', 'int64']).columns.tolist()\n",
    "    for col in numBall_cols:\n",
    "        print(f\"Nilai Minimum dari {col}         = {df_ball[col].min()}\")\n",
    "        print(f\"Nilai Rata-Rata dari {col}       = {df_ball[col].mean()}\")\n",
    "        print(f\"Nilai Median dari {col}          = {df_ball[col].median()}\")\n",
    "        print(f\"Nilai Standar Deviasi dari {col} = {df_ball[col].std()}\")\n",
    "        print(f\"Nilai Variance dari {col}        = {df_ball[col].var()}\")\n",
    "        print(f\"Nilai Maximum dari {col}         = {df_ball[col].max()}\")\n",
    "        print(f\"Nilai Range dari {col}           = {df_ball[col].max()-df_ball[col].min()} \\n\")\n",
    "numEDA_ball()"
   ]
  },
  {
   "attachments": {},
   "cell_type": "markdown",
   "metadata": {},
   "source": [
    "## Melihat Measure of Central Tedency dan Measured of Spread dari df_match"
   ]
  },
  {
   "cell_type": "code",
   "execution_count": 221,
   "metadata": {},
   "outputs": [
    {
     "name": "stdout",
     "output_type": "stream",
     "text": [
      "Nilai Minimum dari id         = 335982\n",
      "Nilai Rata-Rata dari id       = 756349.5539215687\n",
      "Nilai Median dari id          = 729298.0\n",
      "Nilai Standar Deviasi dari id = 305894.25480400526\n",
      "Nilai Variance dari id        = 93571295122.0977\n",
      "Nilai Maximum dari id         = 1237181\n",
      "Nilai Range dari id           = 901199 \n",
      "\n",
      "Nilai Minimum dari neutral_venue         = 0\n",
      "Nilai Rata-Rata dari neutral_venue       = 0.09436274509803921\n",
      "Nilai Median dari neutral_venue          = 0.0\n",
      "Nilai Standar Deviasi dari neutral_venue = 0.2925120072569815\n",
      "Nilai Variance dari neutral_venue        = 0.0855632743895084\n",
      "Nilai Maximum dari neutral_venue         = 1\n",
      "Nilai Range dari neutral_venue           = 1 \n",
      "\n",
      "Nilai Minimum dari result_margin         = 1.0\n",
      "Nilai Rata-Rata dari result_margin       = 17.127450980392158\n",
      "Nilai Median dari result_margin          = 8.0\n",
      "Nilai Standar Deviasi dari result_margin = 21.877650446913876\n",
      "Nilai Variance dari result_margin        = 478.63158907735095\n",
      "Nilai Maximum dari result_margin         = 146.0\n",
      "Nilai Range dari result_margin           = 145.0 \n",
      "\n"
     ]
    }
   ],
   "source": [
    "def numEDA_match():\n",
    "    df_4 = df_match\n",
    "    numMatch_cols = df_4.select_dtypes(include=['float64', 'int64']).columns.tolist()\n",
    "    for col in numMatch_cols:\n",
    "        print(f\"Nilai Minimum dari {col}         = {df_match[col].min()}\")\n",
    "        print(f\"Nilai Rata-Rata dari {col}       = {df_match[col].mean()}\")\n",
    "        print(f\"Nilai Median dari {col}          = {df_match[col].median()}\")\n",
    "        print(f\"Nilai Standar Deviasi dari {col} = {df_match[col].std()}\")\n",
    "        print(f\"Nilai Variance dari {col}        = {df_match[col].var()}\")\n",
    "        print(f\"Nilai Maximum dari {col}         = {df_match[col].max()}\")\n",
    "        print(f\"Nilai Range dari {col}           = {df_match[col].max()-df_match[col].min()} \\n\")\n",
    "numEDA_match()"
   ]
  },
  {
   "cell_type": "code",
   "execution_count": 222,
   "metadata": {},
   "outputs": [
    {
     "name": "stdout",
     "output_type": "stream",
     "text": [
      "Matchs played so far: 816\n",
      "\n",
      "Cities played at: ['Bangalore' 'Chandigarh' 'Delhi' 'Mumbai' 'Kolkata' 'Jaipur' 'Hyderabad'\n",
      " 'Chennai' 'Cape Town' 'Port Elizabeth' 'Durban' 'Centurion' 'East London'\n",
      " 'Johannesburg' 'Kimberley' 'Bloemfontein' 'Ahmedabad' 'Cuttack' 'Nagpur'\n",
      " 'Dharamsala' 'Kochi' 'Indore' 'Visakhapatnam' 'Pune' 'Raipur' 'Ranchi'\n",
      " 'Abu Dhabi' 'unknown' 'Rajkot' 'Kanpur' 'Bengaluru' 'Dubai' 'Sharjah']\n",
      "\n",
      "Teams participated: ['Royal Challengers Bangalore' 'Kings XI Punjab' 'Delhi Daredevils'\n",
      " 'Mumbai Indians' 'Kolkata Knight Riders' 'Rajasthan Royals'\n",
      " 'Deccan Chargers' 'Chennai Super Kings' 'Kochi Tuskers Kerala'\n",
      " 'Pune Warriors' 'Sunrisers Hyderabad' 'Gujarat Lions'\n",
      " 'Rising Pune Supergiants' 'Rising Pune Supergiant' 'Delhi Capitals']\n"
     ]
    }
   ],
   "source": [
    "print('Matchs played so far:', df_match.shape[0])\n",
    "print('\\nCities played at:', df_match['city'].unique())\n",
    "print('\\nTeams participated:', df_match['team1'].unique())"
   ]
  },
  {
   "cell_type": "code",
   "execution_count": 223,
   "metadata": {},
   "outputs": [
    {
     "data": {
      "text/html": [
       "<div>\n",
       "<style scoped>\n",
       "    .dataframe tbody tr th:only-of-type {\n",
       "        vertical-align: middle;\n",
       "    }\n",
       "\n",
       "    .dataframe tbody tr th {\n",
       "        vertical-align: top;\n",
       "    }\n",
       "\n",
       "    .dataframe thead th {\n",
       "        text-align: right;\n",
       "    }\n",
       "</style>\n",
       "<table border=\"1\" class=\"dataframe\">\n",
       "  <thead>\n",
       "    <tr style=\"text-align: right;\">\n",
       "      <th></th>\n",
       "      <th>id</th>\n",
       "      <th>city</th>\n",
       "      <th>date</th>\n",
       "      <th>player_of_match</th>\n",
       "      <th>venue</th>\n",
       "      <th>neutral_venue</th>\n",
       "      <th>team1</th>\n",
       "      <th>team2</th>\n",
       "      <th>toss_winner</th>\n",
       "      <th>toss_decision</th>\n",
       "      <th>winner</th>\n",
       "      <th>result</th>\n",
       "      <th>result_margin</th>\n",
       "      <th>eliminator</th>\n",
       "      <th>method</th>\n",
       "      <th>umpire1</th>\n",
       "      <th>umpire2</th>\n",
       "      <th>Season</th>\n",
       "    </tr>\n",
       "  </thead>\n",
       "  <tbody>\n",
       "    <tr>\n",
       "      <th>0</th>\n",
       "      <td>335982</td>\n",
       "      <td>Bangalore</td>\n",
       "      <td>18-04-2008</td>\n",
       "      <td>BB McCullum</td>\n",
       "      <td>M Chinnaswamy Stadium</td>\n",
       "      <td>0</td>\n",
       "      <td>Royal Challengers Bangalore</td>\n",
       "      <td>Kolkata Knight Riders</td>\n",
       "      <td>Royal Challengers Bangalore</td>\n",
       "      <td>field</td>\n",
       "      <td>Kolkata Knight Riders</td>\n",
       "      <td>runs</td>\n",
       "      <td>140.0</td>\n",
       "      <td>N</td>\n",
       "      <td>unknown</td>\n",
       "      <td>Asad Rauf</td>\n",
       "      <td>RE Koertzen</td>\n",
       "      <td>2008</td>\n",
       "    </tr>\n",
       "    <tr>\n",
       "      <th>1</th>\n",
       "      <td>335983</td>\n",
       "      <td>Chandigarh</td>\n",
       "      <td>19-04-2008</td>\n",
       "      <td>MEK Hussey</td>\n",
       "      <td>Punjab Cricket Association Stadium, Mohali</td>\n",
       "      <td>0</td>\n",
       "      <td>Kings XI Punjab</td>\n",
       "      <td>Chennai Super Kings</td>\n",
       "      <td>Chennai Super Kings</td>\n",
       "      <td>bat</td>\n",
       "      <td>Chennai Super Kings</td>\n",
       "      <td>runs</td>\n",
       "      <td>33.0</td>\n",
       "      <td>N</td>\n",
       "      <td>unknown</td>\n",
       "      <td>MR Benson</td>\n",
       "      <td>SL Shastri</td>\n",
       "      <td>2008</td>\n",
       "    </tr>\n",
       "    <tr>\n",
       "      <th>2</th>\n",
       "      <td>335984</td>\n",
       "      <td>Delhi</td>\n",
       "      <td>19-04-2008</td>\n",
       "      <td>MF Maharoof</td>\n",
       "      <td>Feroz Shah Kotla</td>\n",
       "      <td>0</td>\n",
       "      <td>Delhi Daredevils</td>\n",
       "      <td>Rajasthan Royals</td>\n",
       "      <td>Rajasthan Royals</td>\n",
       "      <td>bat</td>\n",
       "      <td>Delhi Daredevils</td>\n",
       "      <td>wickets</td>\n",
       "      <td>9.0</td>\n",
       "      <td>N</td>\n",
       "      <td>unknown</td>\n",
       "      <td>Aleem Dar</td>\n",
       "      <td>GA Pratapkumar</td>\n",
       "      <td>2008</td>\n",
       "    </tr>\n",
       "    <tr>\n",
       "      <th>3</th>\n",
       "      <td>335985</td>\n",
       "      <td>Mumbai</td>\n",
       "      <td>20-04-2008</td>\n",
       "      <td>MV Boucher</td>\n",
       "      <td>Wankhede Stadium</td>\n",
       "      <td>0</td>\n",
       "      <td>Mumbai Indians</td>\n",
       "      <td>Royal Challengers Bangalore</td>\n",
       "      <td>Mumbai Indians</td>\n",
       "      <td>bat</td>\n",
       "      <td>Royal Challengers Bangalore</td>\n",
       "      <td>wickets</td>\n",
       "      <td>5.0</td>\n",
       "      <td>N</td>\n",
       "      <td>unknown</td>\n",
       "      <td>SJ Davis</td>\n",
       "      <td>DJ Harper</td>\n",
       "      <td>2008</td>\n",
       "    </tr>\n",
       "    <tr>\n",
       "      <th>4</th>\n",
       "      <td>335986</td>\n",
       "      <td>Kolkata</td>\n",
       "      <td>20-04-2008</td>\n",
       "      <td>DJ Hussey</td>\n",
       "      <td>Eden Gardens</td>\n",
       "      <td>0</td>\n",
       "      <td>Kolkata Knight Riders</td>\n",
       "      <td>Deccan Chargers</td>\n",
       "      <td>Deccan Chargers</td>\n",
       "      <td>bat</td>\n",
       "      <td>Kolkata Knight Riders</td>\n",
       "      <td>wickets</td>\n",
       "      <td>5.0</td>\n",
       "      <td>N</td>\n",
       "      <td>unknown</td>\n",
       "      <td>BF Bowden</td>\n",
       "      <td>K Hariharan</td>\n",
       "      <td>2008</td>\n",
       "    </tr>\n",
       "  </tbody>\n",
       "</table>\n",
       "</div>"
      ],
      "text/plain": [
       "       id        city        date player_of_match  \\\n",
       "0  335982   Bangalore  18-04-2008     BB McCullum   \n",
       "1  335983  Chandigarh  19-04-2008      MEK Hussey   \n",
       "2  335984       Delhi  19-04-2008     MF Maharoof   \n",
       "3  335985      Mumbai  20-04-2008      MV Boucher   \n",
       "4  335986     Kolkata  20-04-2008       DJ Hussey   \n",
       "\n",
       "                                        venue  neutral_venue  \\\n",
       "0                       M Chinnaswamy Stadium              0   \n",
       "1  Punjab Cricket Association Stadium, Mohali              0   \n",
       "2                            Feroz Shah Kotla              0   \n",
       "3                            Wankhede Stadium              0   \n",
       "4                                Eden Gardens              0   \n",
       "\n",
       "                         team1                        team2  \\\n",
       "0  Royal Challengers Bangalore        Kolkata Knight Riders   \n",
       "1              Kings XI Punjab          Chennai Super Kings   \n",
       "2             Delhi Daredevils             Rajasthan Royals   \n",
       "3               Mumbai Indians  Royal Challengers Bangalore   \n",
       "4        Kolkata Knight Riders              Deccan Chargers   \n",
       "\n",
       "                   toss_winner toss_decision                       winner  \\\n",
       "0  Royal Challengers Bangalore         field        Kolkata Knight Riders   \n",
       "1          Chennai Super Kings           bat          Chennai Super Kings   \n",
       "2             Rajasthan Royals           bat             Delhi Daredevils   \n",
       "3               Mumbai Indians           bat  Royal Challengers Bangalore   \n",
       "4              Deccan Chargers           bat        Kolkata Knight Riders   \n",
       "\n",
       "    result  result_margin eliminator   method    umpire1         umpire2  \\\n",
       "0     runs          140.0          N  unknown  Asad Rauf     RE Koertzen   \n",
       "1     runs           33.0          N  unknown  MR Benson      SL Shastri   \n",
       "2  wickets            9.0          N  unknown  Aleem Dar  GA Pratapkumar   \n",
       "3  wickets            5.0          N  unknown   SJ Davis       DJ Harper   \n",
       "4  wickets            5.0          N  unknown  BF Bowden     K Hariharan   \n",
       "\n",
       "   Season  \n",
       "0    2008  \n",
       "1    2008  \n",
       "2    2008  \n",
       "3    2008  \n",
       "4    2008  "
      ]
     },
     "execution_count": 223,
     "metadata": {},
     "output_type": "execute_result"
    }
   ],
   "source": [
    "df_match['Season'] = pd.DatetimeIndex(df_match['date']).year\n",
    "df_match.head()"
   ]
  },
  {
   "cell_type": "code",
   "execution_count": 224,
   "metadata": {},
   "outputs": [
    {
     "data": {
      "text/html": [
       "<div>\n",
       "<style scoped>\n",
       "    .dataframe tbody tr th:only-of-type {\n",
       "        vertical-align: middle;\n",
       "    }\n",
       "\n",
       "    .dataframe tbody tr th {\n",
       "        vertical-align: top;\n",
       "    }\n",
       "\n",
       "    .dataframe thead th {\n",
       "        text-align: right;\n",
       "    }\n",
       "</style>\n",
       "<table border=\"1\" class=\"dataframe\">\n",
       "  <thead>\n",
       "    <tr style=\"text-align: right;\">\n",
       "      <th></th>\n",
       "      <th>Season</th>\n",
       "      <th>matches</th>\n",
       "    </tr>\n",
       "  </thead>\n",
       "  <tbody>\n",
       "    <tr>\n",
       "      <th>0</th>\n",
       "      <td>2008</td>\n",
       "      <td>58</td>\n",
       "    </tr>\n",
       "    <tr>\n",
       "      <th>1</th>\n",
       "      <td>2009</td>\n",
       "      <td>57</td>\n",
       "    </tr>\n",
       "    <tr>\n",
       "      <th>2</th>\n",
       "      <td>2010</td>\n",
       "      <td>60</td>\n",
       "    </tr>\n",
       "    <tr>\n",
       "      <th>3</th>\n",
       "      <td>2011</td>\n",
       "      <td>73</td>\n",
       "    </tr>\n",
       "    <tr>\n",
       "      <th>4</th>\n",
       "      <td>2012</td>\n",
       "      <td>74</td>\n",
       "    </tr>\n",
       "    <tr>\n",
       "      <th>5</th>\n",
       "      <td>2013</td>\n",
       "      <td>76</td>\n",
       "    </tr>\n",
       "    <tr>\n",
       "      <th>6</th>\n",
       "      <td>2014</td>\n",
       "      <td>60</td>\n",
       "    </tr>\n",
       "    <tr>\n",
       "      <th>7</th>\n",
       "      <td>2015</td>\n",
       "      <td>59</td>\n",
       "    </tr>\n",
       "    <tr>\n",
       "      <th>8</th>\n",
       "      <td>2016</td>\n",
       "      <td>60</td>\n",
       "    </tr>\n",
       "    <tr>\n",
       "      <th>9</th>\n",
       "      <td>2017</td>\n",
       "      <td>59</td>\n",
       "    </tr>\n",
       "    <tr>\n",
       "      <th>10</th>\n",
       "      <td>2018</td>\n",
       "      <td>60</td>\n",
       "    </tr>\n",
       "    <tr>\n",
       "      <th>11</th>\n",
       "      <td>2019</td>\n",
       "      <td>60</td>\n",
       "    </tr>\n",
       "    <tr>\n",
       "      <th>12</th>\n",
       "      <td>2020</td>\n",
       "      <td>60</td>\n",
       "    </tr>\n",
       "  </tbody>\n",
       "</table>\n",
       "</div>"
      ],
      "text/plain": [
       "    Season  matches\n",
       "0     2008       58\n",
       "1     2009       57\n",
       "2     2010       60\n",
       "3     2011       73\n",
       "4     2012       74\n",
       "5     2013       76\n",
       "6     2014       60\n",
       "7     2015       59\n",
       "8     2016       60\n",
       "9     2017       59\n",
       "10    2018       60\n",
       "11    2019       60\n",
       "12    2020       60"
      ]
     },
     "execution_count": 224,
     "metadata": {},
     "output_type": "execute_result"
    }
   ],
   "source": [
    "match_per_season = df_match.groupby(['Season'])['id'].count().reset_index().rename(columns={'id':'matches'})\n",
    "match_per_season"
   ]
  },
  {
   "attachments": {},
   "cell_type": "markdown",
   "metadata": {},
   "source": [
    "## Total Matches Played in Each Season"
   ]
  },
  {
   "cell_type": "code",
   "execution_count": 225,
   "metadata": {},
   "outputs": [
    {
     "data": {
      "text/plain": [
       "Text(0.5, 1.0, 'Total matches played in each season')"
      ]
     },
     "execution_count": 225,
     "metadata": {},
     "output_type": "execute_result"
    },
    {
     "data": {
      "image/png": "[encoded data removed]",
      "text/plain": [
       "<Figure size 432x288 with 1 Axes>"
      ]
     },
     "metadata": {
      "needs_background": "light"
     },
     "output_type": "display_data"
    }
   ],
   "source": [
    "sns.countplot(df_match['Season'])\n",
    "plt.xticks(rotation=45, fontsize=10)\n",
    "plt.yticks(fontsize=10)\n",
    "plt.xlabel('Season', fontsize=10)\n",
    "plt.ylabel('Count', fontsize=10)\n",
    "plt.title('Total matches played in each season', fontsize=10, fontweight='bold')"
   ]
  },
  {
   "cell_type": "code",
   "execution_count": 226,
   "metadata": {},
   "outputs": [],
   "source": [
    "season_data=df_match[['id','Season']].merge(df_ball, left_on='id', right_on='id', how='left').drop('id', axis=1)"
   ]
  },
  {
   "cell_type": "code",
   "execution_count": 227,
   "metadata": {},
   "outputs": [
    {
     "data": {
      "text/html": [
       "<div>\n",
       "<style scoped>\n",
       "    .dataframe tbody tr th:only-of-type {\n",
       "        vertical-align: middle;\n",
       "    }\n",
       "\n",
       "    .dataframe tbody tr th {\n",
       "        vertical-align: top;\n",
       "    }\n",
       "\n",
       "    .dataframe thead th {\n",
       "        text-align: right;\n",
       "    }\n",
       "</style>\n",
       "<table border=\"1\" class=\"dataframe\">\n",
       "  <thead>\n",
       "    <tr style=\"text-align: right;\">\n",
       "      <th></th>\n",
       "      <th>Season</th>\n",
       "      <th>inning</th>\n",
       "      <th>over</th>\n",
       "      <th>ball</th>\n",
       "      <th>batsman</th>\n",
       "      <th>non_striker</th>\n",
       "      <th>bowler</th>\n",
       "      <th>batsman_runs</th>\n",
       "      <th>extra_runs</th>\n",
       "      <th>total_runs</th>\n",
       "      <th>non_boundary</th>\n",
       "      <th>is_wicket</th>\n",
       "      <th>dismissal_kind</th>\n",
       "      <th>player_dismissed</th>\n",
       "      <th>fielder</th>\n",
       "      <th>extras_type</th>\n",
       "      <th>batting_team</th>\n",
       "      <th>bowling_team</th>\n",
       "    </tr>\n",
       "  </thead>\n",
       "  <tbody>\n",
       "    <tr>\n",
       "      <th>0</th>\n",
       "      <td>2008</td>\n",
       "      <td>1</td>\n",
       "      <td>6</td>\n",
       "      <td>5</td>\n",
       "      <td>RT Ponting</td>\n",
       "      <td>BB McCullum</td>\n",
       "      <td>AA Noffke</td>\n",
       "      <td>1</td>\n",
       "      <td>0</td>\n",
       "      <td>1</td>\n",
       "      <td>0</td>\n",
       "      <td>0</td>\n",
       "      <td>unknown</td>\n",
       "      <td>unknown</td>\n",
       "      <td>unknown</td>\n",
       "      <td>unknown</td>\n",
       "      <td>Kolkata Knight Riders</td>\n",
       "      <td>Royal Challengers Bangalore</td>\n",
       "    </tr>\n",
       "    <tr>\n",
       "      <th>1</th>\n",
       "      <td>2008</td>\n",
       "      <td>1</td>\n",
       "      <td>6</td>\n",
       "      <td>6</td>\n",
       "      <td>BB McCullum</td>\n",
       "      <td>RT Ponting</td>\n",
       "      <td>AA Noffke</td>\n",
       "      <td>1</td>\n",
       "      <td>0</td>\n",
       "      <td>1</td>\n",
       "      <td>0</td>\n",
       "      <td>0</td>\n",
       "      <td>unknown</td>\n",
       "      <td>unknown</td>\n",
       "      <td>unknown</td>\n",
       "      <td>unknown</td>\n",
       "      <td>Kolkata Knight Riders</td>\n",
       "      <td>Royal Challengers Bangalore</td>\n",
       "    </tr>\n",
       "    <tr>\n",
       "      <th>2</th>\n",
       "      <td>2008</td>\n",
       "      <td>1</td>\n",
       "      <td>7</td>\n",
       "      <td>1</td>\n",
       "      <td>BB McCullum</td>\n",
       "      <td>RT Ponting</td>\n",
       "      <td>Z Khan</td>\n",
       "      <td>0</td>\n",
       "      <td>0</td>\n",
       "      <td>0</td>\n",
       "      <td>0</td>\n",
       "      <td>0</td>\n",
       "      <td>unknown</td>\n",
       "      <td>unknown</td>\n",
       "      <td>unknown</td>\n",
       "      <td>unknown</td>\n",
       "      <td>Kolkata Knight Riders</td>\n",
       "      <td>Royal Challengers Bangalore</td>\n",
       "    </tr>\n",
       "    <tr>\n",
       "      <th>3</th>\n",
       "      <td>2008</td>\n",
       "      <td>1</td>\n",
       "      <td>7</td>\n",
       "      <td>2</td>\n",
       "      <td>BB McCullum</td>\n",
       "      <td>RT Ponting</td>\n",
       "      <td>Z Khan</td>\n",
       "      <td>1</td>\n",
       "      <td>0</td>\n",
       "      <td>1</td>\n",
       "      <td>0</td>\n",
       "      <td>0</td>\n",
       "      <td>unknown</td>\n",
       "      <td>unknown</td>\n",
       "      <td>unknown</td>\n",
       "      <td>unknown</td>\n",
       "      <td>Kolkata Knight Riders</td>\n",
       "      <td>Royal Challengers Bangalore</td>\n",
       "    </tr>\n",
       "    <tr>\n",
       "      <th>4</th>\n",
       "      <td>2008</td>\n",
       "      <td>1</td>\n",
       "      <td>7</td>\n",
       "      <td>3</td>\n",
       "      <td>RT Ponting</td>\n",
       "      <td>BB McCullum</td>\n",
       "      <td>Z Khan</td>\n",
       "      <td>1</td>\n",
       "      <td>0</td>\n",
       "      <td>1</td>\n",
       "      <td>0</td>\n",
       "      <td>0</td>\n",
       "      <td>unknown</td>\n",
       "      <td>unknown</td>\n",
       "      <td>unknown</td>\n",
       "      <td>unknown</td>\n",
       "      <td>Kolkata Knight Riders</td>\n",
       "      <td>Royal Challengers Bangalore</td>\n",
       "    </tr>\n",
       "    <tr>\n",
       "      <th>...</th>\n",
       "      <td>...</td>\n",
       "      <td>...</td>\n",
       "      <td>...</td>\n",
       "      <td>...</td>\n",
       "      <td>...</td>\n",
       "      <td>...</td>\n",
       "      <td>...</td>\n",
       "      <td>...</td>\n",
       "      <td>...</td>\n",
       "      <td>...</td>\n",
       "      <td>...</td>\n",
       "      <td>...</td>\n",
       "      <td>...</td>\n",
       "      <td>...</td>\n",
       "      <td>...</td>\n",
       "      <td>...</td>\n",
       "      <td>...</td>\n",
       "      <td>...</td>\n",
       "    </tr>\n",
       "    <tr>\n",
       "      <th>193462</th>\n",
       "      <td>2020</td>\n",
       "      <td>1</td>\n",
       "      <td>12</td>\n",
       "      <td>5</td>\n",
       "      <td>RR Pant</td>\n",
       "      <td>SS Iyer</td>\n",
       "      <td>NM Coulter-Nile</td>\n",
       "      <td>0</td>\n",
       "      <td>0</td>\n",
       "      <td>0</td>\n",
       "      <td>0</td>\n",
       "      <td>0</td>\n",
       "      <td>unknown</td>\n",
       "      <td>unknown</td>\n",
       "      <td>unknown</td>\n",
       "      <td>unknown</td>\n",
       "      <td>Delhi Capitals</td>\n",
       "      <td>Mumbai Indians</td>\n",
       "    </tr>\n",
       "    <tr>\n",
       "      <th>193463</th>\n",
       "      <td>2020</td>\n",
       "      <td>1</td>\n",
       "      <td>12</td>\n",
       "      <td>6</td>\n",
       "      <td>RR Pant</td>\n",
       "      <td>SS Iyer</td>\n",
       "      <td>NM Coulter-Nile</td>\n",
       "      <td>1</td>\n",
       "      <td>0</td>\n",
       "      <td>1</td>\n",
       "      <td>0</td>\n",
       "      <td>0</td>\n",
       "      <td>unknown</td>\n",
       "      <td>unknown</td>\n",
       "      <td>unknown</td>\n",
       "      <td>unknown</td>\n",
       "      <td>Delhi Capitals</td>\n",
       "      <td>Mumbai Indians</td>\n",
       "    </tr>\n",
       "    <tr>\n",
       "      <th>193464</th>\n",
       "      <td>2020</td>\n",
       "      <td>1</td>\n",
       "      <td>13</td>\n",
       "      <td>1</td>\n",
       "      <td>RR Pant</td>\n",
       "      <td>SS Iyer</td>\n",
       "      <td>KH Pandya</td>\n",
       "      <td>0</td>\n",
       "      <td>1</td>\n",
       "      <td>1</td>\n",
       "      <td>0</td>\n",
       "      <td>0</td>\n",
       "      <td>unknown</td>\n",
       "      <td>unknown</td>\n",
       "      <td>unknown</td>\n",
       "      <td>wides</td>\n",
       "      <td>Delhi Capitals</td>\n",
       "      <td>Mumbai Indians</td>\n",
       "    </tr>\n",
       "    <tr>\n",
       "      <th>193465</th>\n",
       "      <td>2020</td>\n",
       "      <td>1</td>\n",
       "      <td>13</td>\n",
       "      <td>2</td>\n",
       "      <td>RR Pant</td>\n",
       "      <td>SS Iyer</td>\n",
       "      <td>KH Pandya</td>\n",
       "      <td>1</td>\n",
       "      <td>0</td>\n",
       "      <td>1</td>\n",
       "      <td>0</td>\n",
       "      <td>0</td>\n",
       "      <td>unknown</td>\n",
       "      <td>unknown</td>\n",
       "      <td>unknown</td>\n",
       "      <td>unknown</td>\n",
       "      <td>Delhi Capitals</td>\n",
       "      <td>Mumbai Indians</td>\n",
       "    </tr>\n",
       "    <tr>\n",
       "      <th>193466</th>\n",
       "      <td>2020</td>\n",
       "      <td>1</td>\n",
       "      <td>13</td>\n",
       "      <td>3</td>\n",
       "      <td>SS Iyer</td>\n",
       "      <td>RR Pant</td>\n",
       "      <td>KH Pandya</td>\n",
       "      <td>1</td>\n",
       "      <td>0</td>\n",
       "      <td>1</td>\n",
       "      <td>0</td>\n",
       "      <td>0</td>\n",
       "      <td>unknown</td>\n",
       "      <td>unknown</td>\n",
       "      <td>unknown</td>\n",
       "      <td>unknown</td>\n",
       "      <td>Delhi Capitals</td>\n",
       "      <td>Mumbai Indians</td>\n",
       "    </tr>\n",
       "  </tbody>\n",
       "</table>\n",
       "<p>193467 rows × 18 columns</p>\n",
       "</div>"
      ],
      "text/plain": [
       "        Season  inning  over  ball      batsman  non_striker           bowler  \\\n",
       "0         2008       1     6     5   RT Ponting  BB McCullum        AA Noffke   \n",
       "1         2008       1     6     6  BB McCullum   RT Ponting        AA Noffke   \n",
       "2         2008       1     7     1  BB McCullum   RT Ponting           Z Khan   \n",
       "3         2008       1     7     2  BB McCullum   RT Ponting           Z Khan   \n",
       "4         2008       1     7     3   RT Ponting  BB McCullum           Z Khan   \n",
       "...        ...     ...   ...   ...          ...          ...              ...   \n",
       "193462    2020       1    12     5      RR Pant      SS Iyer  NM Coulter-Nile   \n",
       "193463    2020       1    12     6      RR Pant      SS Iyer  NM Coulter-Nile   \n",
       "193464    2020       1    13     1      RR Pant      SS Iyer        KH Pandya   \n",
       "193465    2020       1    13     2      RR Pant      SS Iyer        KH Pandya   \n",
       "193466    2020       1    13     3      SS Iyer      RR Pant        KH Pandya   \n",
       "\n",
       "        batsman_runs  extra_runs  total_runs  non_boundary  is_wicket  \\\n",
       "0                  1           0           1             0          0   \n",
       "1                  1           0           1             0          0   \n",
       "2                  0           0           0             0          0   \n",
       "3                  1           0           1             0          0   \n",
       "4                  1           0           1             0          0   \n",
       "...              ...         ...         ...           ...        ...   \n",
       "193462             0           0           0             0          0   \n",
       "193463             1           0           1             0          0   \n",
       "193464             0           1           1             0          0   \n",
       "193465             1           0           1             0          0   \n",
       "193466             1           0           1             0          0   \n",
       "\n",
       "       dismissal_kind player_dismissed  fielder extras_type  \\\n",
       "0             unknown          unknown  unknown     unknown   \n",
       "1             unknown          unknown  unknown     unknown   \n",
       "2             unknown          unknown  unknown     unknown   \n",
       "3             unknown          unknown  unknown     unknown   \n",
       "4             unknown          unknown  unknown     unknown   \n",
       "...               ...              ...      ...         ...   \n",
       "193462        unknown          unknown  unknown     unknown   \n",
       "193463        unknown          unknown  unknown     unknown   \n",
       "193464        unknown          unknown  unknown       wides   \n",
       "193465        unknown          unknown  unknown     unknown   \n",
       "193466        unknown          unknown  unknown     unknown   \n",
       "\n",
       "                 batting_team                 bowling_team  \n",
       "0       Kolkata Knight Riders  Royal Challengers Bangalore  \n",
       "1       Kolkata Knight Riders  Royal Challengers Bangalore  \n",
       "2       Kolkata Knight Riders  Royal Challengers Bangalore  \n",
       "3       Kolkata Knight Riders  Royal Challengers Bangalore  \n",
       "4       Kolkata Knight Riders  Royal Challengers Bangalore  \n",
       "...                       ...                          ...  \n",
       "193462         Delhi Capitals               Mumbai Indians  \n",
       "193463         Delhi Capitals               Mumbai Indians  \n",
       "193464         Delhi Capitals               Mumbai Indians  \n",
       "193465         Delhi Capitals               Mumbai Indians  \n",
       "193466         Delhi Capitals               Mumbai Indians  \n",
       "\n",
       "[193467 rows x 18 columns]"
      ]
     },
     "execution_count": 227,
     "metadata": {},
     "output_type": "execute_result"
    }
   ],
   "source": [
    "season_data"
   ]
  },
  {
   "attachments": {},
   "cell_type": "markdown",
   "metadata": {},
   "source": [
    "## Total Runs in Each Season"
   ]
  },
  {
   "cell_type": "code",
   "execution_count": 228,
   "metadata": {},
   "outputs": [
    {
     "data": {
      "image/png": "[encoded data removed]",
      "text/plain": [
       "<Figure size 432x288 with 1 Axes>"
      ]
     },
     "metadata": {
      "needs_background": "light"
     },
     "output_type": "display_data"
    }
   ],
   "source": [
    "season=season_data.groupby(['Season'])['total_runs'].sum().reset_index()\n",
    "p=season.set_index('Season')\n",
    "ax = plt.axes()\n",
    "ax.set(facecolor='black')\n",
    "sns.lineplot(data=p, palette='Blues_r')\n",
    "plt.title('Total runs in each Season', fontsize=12, fontweight='bold')\n",
    "plt.show()"
   ]
  },
  {
   "cell_type": "code",
   "execution_count": 229,
   "metadata": {},
   "outputs": [
    {
     "data": {
      "text/html": [
       "<div>\n",
       "<style scoped>\n",
       "    .dataframe tbody tr th:only-of-type {\n",
       "        vertical-align: middle;\n",
       "    }\n",
       "\n",
       "    .dataframe tbody tr th {\n",
       "        vertical-align: top;\n",
       "    }\n",
       "\n",
       "    .dataframe thead th {\n",
       "        text-align: right;\n",
       "    }\n",
       "</style>\n",
       "<table border=\"1\" class=\"dataframe\">\n",
       "  <thead>\n",
       "    <tr style=\"text-align: right;\">\n",
       "      <th></th>\n",
       "      <th>matches</th>\n",
       "      <th>total_runs</th>\n",
       "      <th>Runs scored per match</th>\n",
       "    </tr>\n",
       "    <tr>\n",
       "      <th>Season</th>\n",
       "      <th></th>\n",
       "      <th></th>\n",
       "      <th></th>\n",
       "    </tr>\n",
       "  </thead>\n",
       "  <tbody>\n",
       "    <tr>\n",
       "      <th>2008</th>\n",
       "      <td>58</td>\n",
       "      <td>17937</td>\n",
       "      <td>309.258621</td>\n",
       "    </tr>\n",
       "    <tr>\n",
       "      <th>2009</th>\n",
       "      <td>57</td>\n",
       "      <td>16320</td>\n",
       "      <td>286.315789</td>\n",
       "    </tr>\n",
       "    <tr>\n",
       "      <th>2010</th>\n",
       "      <td>60</td>\n",
       "      <td>18863</td>\n",
       "      <td>314.383333</td>\n",
       "    </tr>\n",
       "    <tr>\n",
       "      <th>2011</th>\n",
       "      <td>73</td>\n",
       "      <td>21154</td>\n",
       "      <td>289.780822</td>\n",
       "    </tr>\n",
       "    <tr>\n",
       "      <th>2012</th>\n",
       "      <td>74</td>\n",
       "      <td>22453</td>\n",
       "      <td>303.418919</td>\n",
       "    </tr>\n",
       "    <tr>\n",
       "      <th>2013</th>\n",
       "      <td>76</td>\n",
       "      <td>22541</td>\n",
       "      <td>296.592105</td>\n",
       "    </tr>\n",
       "    <tr>\n",
       "      <th>2014</th>\n",
       "      <td>60</td>\n",
       "      <td>18909</td>\n",
       "      <td>315.150000</td>\n",
       "    </tr>\n",
       "    <tr>\n",
       "      <th>2015</th>\n",
       "      <td>59</td>\n",
       "      <td>18332</td>\n",
       "      <td>310.711864</td>\n",
       "    </tr>\n",
       "    <tr>\n",
       "      <th>2016</th>\n",
       "      <td>60</td>\n",
       "      <td>18862</td>\n",
       "      <td>314.366667</td>\n",
       "    </tr>\n",
       "    <tr>\n",
       "      <th>2017</th>\n",
       "      <td>59</td>\n",
       "      <td>18769</td>\n",
       "      <td>318.118644</td>\n",
       "    </tr>\n",
       "    <tr>\n",
       "      <th>2018</th>\n",
       "      <td>60</td>\n",
       "      <td>19901</td>\n",
       "      <td>331.683333</td>\n",
       "    </tr>\n",
       "    <tr>\n",
       "      <th>2019</th>\n",
       "      <td>60</td>\n",
       "      <td>19400</td>\n",
       "      <td>323.333333</td>\n",
       "    </tr>\n",
       "    <tr>\n",
       "      <th>2020</th>\n",
       "      <td>60</td>\n",
       "      <td>19352</td>\n",
       "      <td>322.533333</td>\n",
       "    </tr>\n",
       "  </tbody>\n",
       "</table>\n",
       "</div>"
      ],
      "text/plain": [
       "        matches  total_runs  Runs scored per match\n",
       "Season                                            \n",
       "2008         58       17937             309.258621\n",
       "2009         57       16320             286.315789\n",
       "2010         60       18863             314.383333\n",
       "2011         73       21154             289.780822\n",
       "2012         74       22453             303.418919\n",
       "2013         76       22541             296.592105\n",
       "2014         60       18909             315.150000\n",
       "2015         59       18332             310.711864\n",
       "2016         60       18862             314.366667\n",
       "2017         59       18769             318.118644\n",
       "2018         60       19901             331.683333\n",
       "2019         60       19400             323.333333\n",
       "2020         60       19352             322.533333"
      ]
     },
     "execution_count": 229,
     "metadata": {},
     "output_type": "execute_result"
    }
   ],
   "source": [
    "runs_per_season = pd.concat([match_per_season, season.iloc[:,1]], axis=1)\n",
    "runs_per_season['Runs scored per match'] = runs_per_season['total_runs']/runs_per_season['matches']\n",
    "runs_per_season.set_index('Season', inplace=True)\n",
    "runs_per_season"
   ]
  },
  {
   "attachments": {},
   "cell_type": "markdown",
   "metadata": {},
   "source": [
    "## Number of Tosses Won by Each Team"
   ]
  },
  {
   "cell_type": "code",
   "execution_count": 230,
   "metadata": {},
   "outputs": [
    {
     "data": {
      "image/png": "[encoded data removed]",
      "text/plain": [
       "<Figure size 432x288 with 1 Axes>"
      ]
     },
     "metadata": {
      "needs_background": "light"
     },
     "output_type": "display_data"
    }
   ],
   "source": [
    "toss = df_match['toss_winner'].value_counts()\n",
    "ax = plt.axes()\n",
    "ax.set(facecolor='black')\n",
    "sns.set(rc={'figure.figsize':(15,10)}, style='darkgrid')\n",
    "ax.set_title('Number of tosses won by each team', fontsize=15, fontweight='bold')\n",
    "sns.barplot(y=toss.index, x=toss, orient='h', palette='icefire', saturation=1)\n",
    "plt.xlabel('# of tosses won')\n",
    "plt.ylabel('Teams')\n",
    "plt.show()"
   ]
  },
  {
   "attachments": {},
   "cell_type": "markdown",
   "metadata": {},
   "source": [
    "## Toss Decision Across Seasons"
   ]
  },
  {
   "cell_type": "code",
   "execution_count": 231,
   "metadata": {},
   "outputs": [
    {
     "data": {
      "image/png": "[encoded data removed]",
      "text/plain": [
       "<Figure size 1080x720 with 1 Axes>"
      ]
     },
     "metadata": {},
     "output_type": "display_data"
    }
   ],
   "source": [
    "ax = plt.axes()\n",
    "ax.set(facecolor='black')\n",
    "sns.countplot(x='Season', hue='toss_decision', data=df_match, palette='ocean_r', saturation=1)\n",
    "plt.xticks(rotation=45, fontsize=10)\n",
    "plt.yticks(fontsize=15)\n",
    "plt.xlabel('\\n Season', fontsize=15)\n",
    "plt.ylabel('Count', fontsize=15)\n",
    "plt.title('Toss decision across seasons', fontsize=12, fontweight='bold')\n",
    "plt.show()"
   ]
  },
  {
   "cell_type": "code",
   "execution_count": 232,
   "metadata": {},
   "outputs": [
    {
     "data": {
      "text/plain": [
       "wickets    435\n",
       "runs       364\n",
       "tie         13\n",
       "unknown      4\n",
       "Name: result, dtype: int64"
      ]
     },
     "execution_count": 232,
     "metadata": {},
     "output_type": "execute_result"
    }
   ],
   "source": [
    "df_match['result'].value_counts()"
   ]
  },
  {
   "cell_type": "code",
   "execution_count": 233,
   "metadata": {},
   "outputs": [
    {
     "data": {
      "text/plain": [
       "0    Eden Gardens\n",
       "Name: venue, dtype: object"
      ]
     },
     "execution_count": 233,
     "metadata": {},
     "output_type": "execute_result"
    }
   ],
   "source": [
    "df_match.venue[df_match.result!='runs'].mode()"
   ]
  },
  {
   "cell_type": "code",
   "execution_count": 234,
   "metadata": {},
   "outputs": [
    {
     "data": {
      "text/plain": [
       "0    Feroz Shah Kotla\n",
       "Name: venue, dtype: object"
      ]
     },
     "execution_count": 234,
     "metadata": {},
     "output_type": "execute_result"
    }
   ],
   "source": [
    "df_match.venue[df_match.result!='wickets'].mode()"
   ]
  },
  {
   "cell_type": "code",
   "execution_count": 235,
   "metadata": {},
   "outputs": [
    {
     "data": {
      "text/plain": [
       "0    Eden Gardens\n",
       "Name: venue, dtype: object"
      ]
     },
     "execution_count": 235,
     "metadata": {},
     "output_type": "execute_result"
    }
   ],
   "source": [
    "df_match.venue[df_match.result!='tie'].mode()"
   ]
  },
  {
   "cell_type": "code",
   "execution_count": 236,
   "metadata": {},
   "outputs": [
    {
     "data": {
      "text/plain": [
       "0    Wankhede Stadium\n",
       "Name: venue, dtype: object"
      ]
     },
     "execution_count": 236,
     "metadata": {},
     "output_type": "execute_result"
    }
   ],
   "source": [
    "df_match.venue[df_match.toss_winner=='Mumbai Indians'][df_match.winner=='Mumbai Indians'].mode()"
   ]
  },
  {
   "cell_type": "code",
   "execution_count": 237,
   "metadata": {},
   "outputs": [
    {
     "data": {
      "text/plain": [
       "0    Eden Gardens\n",
       "Name: venue, dtype: object"
      ]
     },
     "execution_count": 237,
     "metadata": {},
     "output_type": "execute_result"
    }
   ],
   "source": [
    "df_match.venue[df_match.toss_winner=='Kolkata Knight Riders'][df_match.winner=='Kolkata Knight Riders'].mode()"
   ]
  },
  {
   "cell_type": "code",
   "execution_count": 238,
   "metadata": {},
   "outputs": [
    {
     "data": {
      "text/plain": [
       "0    Kolkata Knight Riders\n",
       "1           Mumbai Indians\n",
       "Name: winner, dtype: object"
      ]
     },
     "execution_count": 238,
     "metadata": {},
     "output_type": "execute_result"
    }
   ],
   "source": [
    "df_match.winner[df_match.result!='runs'].mode()"
   ]
  },
  {
   "cell_type": "code",
   "execution_count": 239,
   "metadata": {},
   "outputs": [
    {
     "data": {
      "text/plain": [
       "0    Mumbai Indians\n",
       "Name: winner, dtype: object"
      ]
     },
     "execution_count": 239,
     "metadata": {},
     "output_type": "execute_result"
    }
   ],
   "source": [
    "df_match.winner[df_match.result!='wickets'].mode()"
   ]
  },
  {
   "cell_type": "code",
   "execution_count": 240,
   "metadata": {},
   "outputs": [
    {
     "data": {
      "image/png": "[encoded data removed]",
      "text/plain": [
       "<Figure size 720x360 with 1 Axes>"
      ]
     },
     "metadata": {},
     "output_type": "display_data"
    }
   ],
   "source": [
    "toss = df_match['toss_winner'] == df_match['winner']\n",
    "plt.figure(figsize=(10,5))\n",
    "sns.countplot(toss)\n",
    "plt.show()"
   ]
  },
  {
   "cell_type": "code",
   "execution_count": 241,
   "metadata": {},
   "outputs": [
    {
     "data": {
      "image/png": "[encoded data removed]",
      "text/plain": [
       "<Figure size 864x288 with 1 Axes>"
      ]
     },
     "metadata": {},
     "output_type": "display_data"
    }
   ],
   "source": [
    "plt.figure(figsize=(12,4))\n",
    "sns.countplot(df_match.toss_decision[df_match.toss_winner == df_match.winner])\n",
    "plt.show()"
   ]
  },
  {
   "cell_type": "code",
   "execution_count": 242,
   "metadata": {},
   "outputs": [
    {
     "data": {
      "text/html": [
       "<div>\n",
       "<style scoped>\n",
       "    .dataframe tbody tr th:only-of-type {\n",
       "        vertical-align: middle;\n",
       "    }\n",
       "\n",
       "    .dataframe tbody tr th {\n",
       "        vertical-align: top;\n",
       "    }\n",
       "\n",
       "    .dataframe thead th {\n",
       "        text-align: right;\n",
       "    }\n",
       "</style>\n",
       "<table border=\"1\" class=\"dataframe\">\n",
       "  <thead>\n",
       "    <tr style=\"text-align: right;\">\n",
       "      <th></th>\n",
       "      <th>id</th>\n",
       "      <th>inning</th>\n",
       "      <th>over</th>\n",
       "      <th>ball</th>\n",
       "      <th>batsman</th>\n",
       "      <th>non_striker</th>\n",
       "      <th>bowler</th>\n",
       "      <th>batsman_runs</th>\n",
       "      <th>extra_runs</th>\n",
       "      <th>total_runs</th>\n",
       "      <th>non_boundary</th>\n",
       "      <th>is_wicket</th>\n",
       "      <th>dismissal_kind</th>\n",
       "      <th>player_dismissed</th>\n",
       "      <th>fielder</th>\n",
       "      <th>extras_type</th>\n",
       "      <th>batting_team</th>\n",
       "      <th>bowling_team</th>\n",
       "    </tr>\n",
       "  </thead>\n",
       "  <tbody>\n",
       "    <tr>\n",
       "      <th>246</th>\n",
       "      <td>335983</td>\n",
       "      <td>1</td>\n",
       "      <td>10</td>\n",
       "      <td>3</td>\n",
       "      <td>SK Raina</td>\n",
       "      <td>MEK Hussey</td>\n",
       "      <td>PP Chawla</td>\n",
       "      <td>2</td>\n",
       "      <td>0</td>\n",
       "      <td>2</td>\n",
       "      <td>0</td>\n",
       "      <td>0</td>\n",
       "      <td>unknown</td>\n",
       "      <td>unknown</td>\n",
       "      <td>unknown</td>\n",
       "      <td>unknown</td>\n",
       "      <td>Chennai Super Kings</td>\n",
       "      <td>Kings XI Punjab</td>\n",
       "    </tr>\n",
       "    <tr>\n",
       "      <th>247</th>\n",
       "      <td>335983</td>\n",
       "      <td>1</td>\n",
       "      <td>10</td>\n",
       "      <td>4</td>\n",
       "      <td>SK Raina</td>\n",
       "      <td>MEK Hussey</td>\n",
       "      <td>PP Chawla</td>\n",
       "      <td>0</td>\n",
       "      <td>0</td>\n",
       "      <td>0</td>\n",
       "      <td>0</td>\n",
       "      <td>0</td>\n",
       "      <td>unknown</td>\n",
       "      <td>unknown</td>\n",
       "      <td>unknown</td>\n",
       "      <td>unknown</td>\n",
       "      <td>Chennai Super Kings</td>\n",
       "      <td>Kings XI Punjab</td>\n",
       "    </tr>\n",
       "    <tr>\n",
       "      <th>248</th>\n",
       "      <td>335983</td>\n",
       "      <td>1</td>\n",
       "      <td>10</td>\n",
       "      <td>5</td>\n",
       "      <td>SK Raina</td>\n",
       "      <td>MEK Hussey</td>\n",
       "      <td>PP Chawla</td>\n",
       "      <td>6</td>\n",
       "      <td>0</td>\n",
       "      <td>6</td>\n",
       "      <td>0</td>\n",
       "      <td>0</td>\n",
       "      <td>unknown</td>\n",
       "      <td>unknown</td>\n",
       "      <td>unknown</td>\n",
       "      <td>unknown</td>\n",
       "      <td>Chennai Super Kings</td>\n",
       "      <td>Kings XI Punjab</td>\n",
       "    </tr>\n",
       "    <tr>\n",
       "      <th>249</th>\n",
       "      <td>335983</td>\n",
       "      <td>1</td>\n",
       "      <td>10</td>\n",
       "      <td>6</td>\n",
       "      <td>SK Raina</td>\n",
       "      <td>MEK Hussey</td>\n",
       "      <td>PP Chawla</td>\n",
       "      <td>4</td>\n",
       "      <td>0</td>\n",
       "      <td>4</td>\n",
       "      <td>0</td>\n",
       "      <td>0</td>\n",
       "      <td>unknown</td>\n",
       "      <td>unknown</td>\n",
       "      <td>unknown</td>\n",
       "      <td>unknown</td>\n",
       "      <td>Chennai Super Kings</td>\n",
       "      <td>Kings XI Punjab</td>\n",
       "    </tr>\n",
       "    <tr>\n",
       "      <th>253</th>\n",
       "      <td>335983</td>\n",
       "      <td>1</td>\n",
       "      <td>11</td>\n",
       "      <td>4</td>\n",
       "      <td>SK Raina</td>\n",
       "      <td>MEK Hussey</td>\n",
       "      <td>K Goel</td>\n",
       "      <td>6</td>\n",
       "      <td>0</td>\n",
       "      <td>6</td>\n",
       "      <td>0</td>\n",
       "      <td>0</td>\n",
       "      <td>unknown</td>\n",
       "      <td>unknown</td>\n",
       "      <td>unknown</td>\n",
       "      <td>unknown</td>\n",
       "      <td>Chennai Super Kings</td>\n",
       "      <td>Kings XI Punjab</td>\n",
       "    </tr>\n",
       "  </tbody>\n",
       "</table>\n",
       "</div>"
      ],
      "text/plain": [
       "         id  inning  over  ball   batsman non_striker     bowler  \\\n",
       "246  335983       1    10     3  SK Raina  MEK Hussey  PP Chawla   \n",
       "247  335983       1    10     4  SK Raina  MEK Hussey  PP Chawla   \n",
       "248  335983       1    10     5  SK Raina  MEK Hussey  PP Chawla   \n",
       "249  335983       1    10     6  SK Raina  MEK Hussey  PP Chawla   \n",
       "253  335983       1    11     4  SK Raina  MEK Hussey     K Goel   \n",
       "\n",
       "     batsman_runs  extra_runs  total_runs  non_boundary  is_wicket  \\\n",
       "246             2           0           2             0          0   \n",
       "247             0           0           0             0          0   \n",
       "248             6           0           6             0          0   \n",
       "249             4           0           4             0          0   \n",
       "253             6           0           6             0          0   \n",
       "\n",
       "    dismissal_kind player_dismissed  fielder extras_type         batting_team  \\\n",
       "246        unknown          unknown  unknown     unknown  Chennai Super Kings   \n",
       "247        unknown          unknown  unknown     unknown  Chennai Super Kings   \n",
       "248        unknown          unknown  unknown     unknown  Chennai Super Kings   \n",
       "249        unknown          unknown  unknown     unknown  Chennai Super Kings   \n",
       "253        unknown          unknown  unknown     unknown  Chennai Super Kings   \n",
       "\n",
       "        bowling_team  \n",
       "246  Kings XI Punjab  \n",
       "247  Kings XI Punjab  \n",
       "248  Kings XI Punjab  \n",
       "249  Kings XI Punjab  \n",
       "253  Kings XI Punjab  "
      ]
     },
     "execution_count": 242,
     "metadata": {},
     "output_type": "execute_result"
    }
   ],
   "source": [
    "player = (df_ball['batsman'] == 'SK Raina')\n",
    "df_raina = df_ball[player]\n",
    "df_raina.head()"
   ]
  },
  {
   "attachments": {},
   "cell_type": "markdown",
   "metadata": {},
   "source": [
    "## Batting Team"
   ]
  },
  {
   "cell_type": "code",
   "execution_count": 243,
   "metadata": {},
   "outputs": [
    {
     "data": {
      "image/png": "[encoded data removed]",
      "text/plain": [
       "<Figure size 1080x720 with 1 Axes>"
      ]
     },
     "metadata": {},
     "output_type": "display_data"
    }
   ],
   "source": [
    "df_raina['batting_team'].value_counts().plot.pie(autopct='%1.1f%%', shadow=True, rotatelabels=True)\n",
    "plt.title('Batting Team', fontweight='bold', fontsize=15)\n",
    "plt.show()"
   ]
  },
  {
   "attachments": {},
   "cell_type": "markdown",
   "metadata": {},
   "source": [
    "## Bowling Team"
   ]
  },
  {
   "cell_type": "code",
   "execution_count": 244,
   "metadata": {},
   "outputs": [
    {
     "data": {
      "image/png": "[encoded data removed]",
      "text/plain": [
       "<Figure size 1080x720 with 1 Axes>"
      ]
     },
     "metadata": {},
     "output_type": "display_data"
    }
   ],
   "source": [
    "df_raina['bowling_team'].value_counts().plot.pie(autopct='%1.1f%%', shadow=True, rotatelabels=True)\n",
    "plt.title('Bowling Team', fontweight='bold', fontsize=15)\n",
    "plt.show()"
   ]
  },
  {
   "cell_type": "code",
   "execution_count": 245,
   "metadata": {},
   "outputs": [],
   "source": [
    "def count(df_raina, runs):\n",
    "    return len(df_raina[df_raina['batsman_runs']==runs])*runs"
   ]
  },
  {
   "cell_type": "code",
   "execution_count": 246,
   "metadata": {},
   "outputs": [
    {
     "name": "stdout",
     "output_type": "stream",
     "text": [
      "Runs scored from 1's :  1666\n",
      "Runs scored from 2's :  528\n",
      "Runs scored from 3's :  33\n",
      "Runs scored from 4's :  1972\n",
      "Runs scored from 5's :  5\n"
     ]
    }
   ],
   "source": [
    "print(\"Runs scored from 1's : \", count(df_raina, 1))\n",
    "print(\"Runs scored from 2's : \", count(df_raina, 2))\n",
    "print(\"Runs scored from 3's : \", count(df_raina, 3))\n",
    "print(\"Runs scored from 4's : \", count(df_raina, 4))\n",
    "print(\"Runs scored from 5's : \", count(df_raina, 5))"
   ]
  },
  {
   "cell_type": "code",
   "execution_count": 247,
   "metadata": {},
   "outputs": [
    {
     "data": {
      "text/html": [
       "<div>\n",
       "<style scoped>\n",
       "    .dataframe tbody tr th:only-of-type {\n",
       "        vertical-align: middle;\n",
       "    }\n",
       "\n",
       "    .dataframe tbody tr th {\n",
       "        vertical-align: top;\n",
       "    }\n",
       "\n",
       "    .dataframe thead th {\n",
       "        text-align: right;\n",
       "    }\n",
       "</style>\n",
       "<table border=\"1\" class=\"dataframe\">\n",
       "  <thead>\n",
       "    <tr style=\"text-align: right;\">\n",
       "      <th></th>\n",
       "      <th>id</th>\n",
       "      <th>city</th>\n",
       "      <th>date</th>\n",
       "      <th>player_of_match</th>\n",
       "      <th>venue</th>\n",
       "      <th>neutral_venue</th>\n",
       "      <th>team1</th>\n",
       "      <th>team2</th>\n",
       "      <th>toss_winner</th>\n",
       "      <th>toss_decision</th>\n",
       "      <th>winner</th>\n",
       "      <th>result</th>\n",
       "      <th>result_margin</th>\n",
       "      <th>eliminator</th>\n",
       "      <th>method</th>\n",
       "      <th>umpire1</th>\n",
       "      <th>umpire2</th>\n",
       "      <th>Season</th>\n",
       "    </tr>\n",
       "  </thead>\n",
       "  <tbody>\n",
       "    <tr>\n",
       "      <th>620</th>\n",
       "      <td>1082635</td>\n",
       "      <td>Delhi</td>\n",
       "      <td>06-05-2017</td>\n",
       "      <td>LMP Simmons</td>\n",
       "      <td>Feroz Shah Kotla</td>\n",
       "      <td>0</td>\n",
       "      <td>Delhi Daredevils</td>\n",
       "      <td>Mumbai Indians</td>\n",
       "      <td>Delhi Daredevils</td>\n",
       "      <td>field</td>\n",
       "      <td>Mumbai Indians</td>\n",
       "      <td>runs</td>\n",
       "      <td>146.0</td>\n",
       "      <td>N</td>\n",
       "      <td>unknown</td>\n",
       "      <td>Nitin Menon</td>\n",
       "      <td>CK Nandan</td>\n",
       "      <td>2017</td>\n",
       "    </tr>\n",
       "  </tbody>\n",
       "</table>\n",
       "</div>"
      ],
      "text/plain": [
       "          id   city        date player_of_match             venue  \\\n",
       "620  1082635  Delhi  06-05-2017     LMP Simmons  Feroz Shah Kotla   \n",
       "\n",
       "     neutral_venue             team1           team2       toss_winner  \\\n",
       "620              0  Delhi Daredevils  Mumbai Indians  Delhi Daredevils   \n",
       "\n",
       "    toss_decision          winner result  result_margin eliminator   method  \\\n",
       "620         field  Mumbai Indians   runs          146.0          N  unknown   \n",
       "\n",
       "         umpire1    umpire2  Season  \n",
       "620  Nitin Menon  CK Nandan    2017  "
      ]
     },
     "execution_count": 247,
     "metadata": {},
     "output_type": "execute_result"
    }
   ],
   "source": [
    "df_match[df_match['result_margin']==df_match['result_margin'].max()]"
   ]
  },
  {
   "cell_type": "code",
   "execution_count": 248,
   "metadata": {},
   "outputs": [
    {
     "data": {
      "text/html": [
       "<div>\n",
       "<style scoped>\n",
       "    .dataframe tbody tr th:only-of-type {\n",
       "        vertical-align: middle;\n",
       "    }\n",
       "\n",
       "    .dataframe tbody tr th {\n",
       "        vertical-align: top;\n",
       "    }\n",
       "\n",
       "    .dataframe thead th {\n",
       "        text-align: right;\n",
       "    }\n",
       "</style>\n",
       "<table border=\"1\" class=\"dataframe\">\n",
       "  <thead>\n",
       "    <tr style=\"text-align: right;\">\n",
       "      <th></th>\n",
       "      <th>Batsman</th>\n",
       "      <th>runs</th>\n",
       "    </tr>\n",
       "  </thead>\n",
       "  <tbody>\n",
       "    <tr>\n",
       "      <th>0</th>\n",
       "      <td>V Kohli</td>\n",
       "      <td>5878</td>\n",
       "    </tr>\n",
       "    <tr>\n",
       "      <th>1</th>\n",
       "      <td>SK Raina</td>\n",
       "      <td>5368</td>\n",
       "    </tr>\n",
       "    <tr>\n",
       "      <th>2</th>\n",
       "      <td>DA Warner</td>\n",
       "      <td>5254</td>\n",
       "    </tr>\n",
       "    <tr>\n",
       "      <th>3</th>\n",
       "      <td>RG Sharma</td>\n",
       "      <td>5230</td>\n",
       "    </tr>\n",
       "    <tr>\n",
       "      <th>4</th>\n",
       "      <td>S Dhawan</td>\n",
       "      <td>5197</td>\n",
       "    </tr>\n",
       "    <tr>\n",
       "      <th>5</th>\n",
       "      <td>AB de Villiers</td>\n",
       "      <td>4849</td>\n",
       "    </tr>\n",
       "    <tr>\n",
       "      <th>6</th>\n",
       "      <td>CH Gayle</td>\n",
       "      <td>4772</td>\n",
       "    </tr>\n",
       "    <tr>\n",
       "      <th>7</th>\n",
       "      <td>MS Dhoni</td>\n",
       "      <td>4632</td>\n",
       "    </tr>\n",
       "    <tr>\n",
       "      <th>8</th>\n",
       "      <td>RV Uthappa</td>\n",
       "      <td>4607</td>\n",
       "    </tr>\n",
       "    <tr>\n",
       "      <th>9</th>\n",
       "      <td>G Gambhir</td>\n",
       "      <td>4217</td>\n",
       "    </tr>\n",
       "  </tbody>\n",
       "</table>\n",
       "</div>"
      ],
      "text/plain": [
       "          Batsman  runs\n",
       "0         V Kohli  5878\n",
       "1        SK Raina  5368\n",
       "2       DA Warner  5254\n",
       "3       RG Sharma  5230\n",
       "4        S Dhawan  5197\n",
       "5  AB de Villiers  4849\n",
       "6        CH Gayle  4772\n",
       "7        MS Dhoni  4632\n",
       "8      RV Uthappa  4607\n",
       "9       G Gambhir  4217"
      ]
     },
     "execution_count": 248,
     "metadata": {},
     "output_type": "execute_result"
    }
   ],
   "source": [
    "runs = df_ball.groupby(['batsman'])['batsman_runs'].sum().reset_index()\n",
    "runs.columns = ['Batsman', 'runs']\n",
    "y = runs.sort_values(by='runs', ascending=False).head(10).reset_index().drop('index', axis=1)\n",
    "y"
   ]
  },
  {
   "attachments": {},
   "cell_type": "markdown",
   "metadata": {},
   "source": [
    "## Top 10 Run Scores in IPL 2020"
   ]
  },
  {
   "cell_type": "code",
   "execution_count": 249,
   "metadata": {},
   "outputs": [
    {
     "data": {
      "text/plain": [
       "Text(0.5, 1.0, 'Top 10 run scores in IPL 2021')"
      ]
     },
     "execution_count": 249,
     "metadata": {},
     "output_type": "execute_result"
    },
    {
     "data": {
      "image/png": "[encoded data removed]",
      "text/plain": [
       "<Figure size 1080x720 with 1 Axes>"
      ]
     },
     "metadata": {},
     "output_type": "display_data"
    }
   ],
   "source": [
    "ax = plt.axes()\n",
    "ax.set(facecolor='black')\n",
    "sns.barplot(x=y['Batsman'], y=y['runs'], palette='ocean', saturation=1)\n",
    "plt.xticks(rotation=90, fontsize=10)\n",
    "plt.yticks(fontsize=10)\n",
    "plt.xlabel('\\n Player', fontsize=15)\n",
    "plt.ylabel('Total Runs', fontsize=15)\n",
    "plt.title('Top 10 run scores in IPL 2021', fontsize=15, fontweight='bold')"
   ]
  },
  {
   "attachments": {},
   "cell_type": "markdown",
   "metadata": {},
   "source": [
    "## Highest MOM Award Winners"
   ]
  },
  {
   "cell_type": "code",
   "execution_count": 250,
   "metadata": {},
   "outputs": [
    {
     "data": {
      "text/plain": [
       "Text(0.5, 1.0, 'Highest MOM award winners')"
      ]
     },
     "execution_count": 250,
     "metadata": {},
     "output_type": "execute_result"
    },
    {
     "data": {
      "image/png": "[encoded data removed]",
      "text/plain": [
       "<Figure size 1080x720 with 1 Axes>"
      ]
     },
     "metadata": {},
     "output_type": "display_data"
    }
   ],
   "source": [
    "ax = plt.axes()\n",
    "ax.set(facecolor='black')\n",
    "df_match.player_of_match.value_counts()[:10].plot(kind='bar')\n",
    "plt.xlabel('Player')\n",
    "plt.ylabel('Count')\n",
    "plt.title('Highest MOM award winners', fontsize=15, fontweight='bold')"
   ]
  }
 ],
 "metadata": {
  "kernelspec": {
   "display_name": "Python 3.9.12 ('base')",
   "language": "python",
   "name": "python3"
  },
  "language_info": {
   "codemirror_mode": {
    "name": "ipython",
    "version": 3
   },
   "file_extension": ".py",
   "mimetype": "text/x-python",
   "name": "python",
   "nbconvert_exporter": "python",
   "pygments_lexer": "ipython3",
   "version": "3.9.12"
  },
  "orig_nbformat": 4,
  "vscode": {
   "interpreter": {
    "hash": "548ab95550280775e0e3d7de30ebd157c610a70d91e64db02d00f78c476de59e"
   }
  }
 },
 "nbformat": 4,
 "nbformat_minor": 2
}
